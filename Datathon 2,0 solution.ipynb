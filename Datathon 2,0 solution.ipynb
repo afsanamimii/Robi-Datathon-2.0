{
 "cells": [
  {
   "cell_type": "code",
   "execution_count": 1,
   "metadata": {},
   "outputs": [],
   "source": [
    "import numpy as np\n",
    "import pandas as pd\n",
    "import seaborn as sns\n",
    "import matplotlib.pyplot as plt"
   ]
  },
  {
   "cell_type": "code",
   "execution_count": 2,
   "metadata": {},
   "outputs": [],
   "source": [
    "df=pd.read_csv(r\"D:\\Robi Datathon\\train.csv\")"
   ]
  },
  {
   "cell_type": "code",
   "execution_count": 3,
   "metadata": {},
   "outputs": [
    {
     "data": {
      "text/html": [
       "<div>\n",
       "<style scoped>\n",
       "    .dataframe tbody tr th:only-of-type {\n",
       "        vertical-align: middle;\n",
       "    }\n",
       "\n",
       "    .dataframe tbody tr th {\n",
       "        vertical-align: top;\n",
       "    }\n",
       "\n",
       "    .dataframe thead th {\n",
       "        text-align: right;\n",
       "    }\n",
       "</style>\n",
       "<table border=\"1\" class=\"dataframe\">\n",
       "  <thead>\n",
       "    <tr style=\"text-align: right;\">\n",
       "      <th></th>\n",
       "      <th>id</th>\n",
       "      <th>gender</th>\n",
       "      <th>s11</th>\n",
       "      <th>s12</th>\n",
       "      <th>s13</th>\n",
       "      <th>s16</th>\n",
       "      <th>s17</th>\n",
       "      <th>s18</th>\n",
       "      <th>s48</th>\n",
       "      <th>s52</th>\n",
       "      <th>...</th>\n",
       "      <th>n7</th>\n",
       "      <th>n8</th>\n",
       "      <th>n9</th>\n",
       "      <th>n10</th>\n",
       "      <th>n11</th>\n",
       "      <th>n12</th>\n",
       "      <th>n13</th>\n",
       "      <th>n14</th>\n",
       "      <th>n15</th>\n",
       "      <th>label</th>\n",
       "    </tr>\n",
       "  </thead>\n",
       "  <tbody>\n",
       "    <tr>\n",
       "      <th>0</th>\n",
       "      <td>b'gAAAAABinOicS09vrmgh0_JyEHihI13ptO0rCyHP7l76...</td>\n",
       "      <td>M</td>\n",
       "      <td>Y</td>\n",
       "      <td>N</td>\n",
       "      <td>1</td>\n",
       "      <td>D</td>\n",
       "      <td>D</td>\n",
       "      <td>B</td>\n",
       "      <td>0</td>\n",
       "      <td>1</td>\n",
       "      <td>...</td>\n",
       "      <td>-9.126056</td>\n",
       "      <td>1.732291</td>\n",
       "      <td>3.698504</td>\n",
       "      <td>4.804517</td>\n",
       "      <td>1.544484</td>\n",
       "      <td>0</td>\n",
       "      <td>0</td>\n",
       "      <td>0.631220</td>\n",
       "      <td>5</td>\n",
       "      <td>0</td>\n",
       "    </tr>\n",
       "    <tr>\n",
       "      <th>1</th>\n",
       "      <td>b'gAAAAABinOiWGC1WhR6WYP0DA5ssGv9rIekrWUwCdJ8F...</td>\n",
       "      <td>M</td>\n",
       "      <td>Y</td>\n",
       "      <td>Y</td>\n",
       "      <td>1</td>\n",
       "      <td>D</td>\n",
       "      <td>D</td>\n",
       "      <td>B</td>\n",
       "      <td>1</td>\n",
       "      <td>1</td>\n",
       "      <td>...</td>\n",
       "      <td>-9.098287</td>\n",
       "      <td>1.505885</td>\n",
       "      <td>6.791357</td>\n",
       "      <td>6.110416</td>\n",
       "      <td>1.712354</td>\n",
       "      <td>0</td>\n",
       "      <td>0</td>\n",
       "      <td>0.392746</td>\n",
       "      <td>3</td>\n",
       "      <td>1</td>\n",
       "    </tr>\n",
       "    <tr>\n",
       "      <th>2</th>\n",
       "      <td>b'gAAAAABinOibTcOBFIVeA4nVF3FuFz_QX3ZlPPFc21gS...</td>\n",
       "      <td>M</td>\n",
       "      <td>Y</td>\n",
       "      <td>Y</td>\n",
       "      <td>1</td>\n",
       "      <td>D</td>\n",
       "      <td>D</td>\n",
       "      <td>B</td>\n",
       "      <td>0</td>\n",
       "      <td>1</td>\n",
       "      <td>...</td>\n",
       "      <td>-9.234894</td>\n",
       "      <td>1.503828</td>\n",
       "      <td>4.109685</td>\n",
       "      <td>3.953226</td>\n",
       "      <td>1.804260</td>\n",
       "      <td>0</td>\n",
       "      <td>0</td>\n",
       "      <td>0.222537</td>\n",
       "      <td>2</td>\n",
       "      <td>0</td>\n",
       "    </tr>\n",
       "    <tr>\n",
       "      <th>3</th>\n",
       "      <td>b'gAAAAABinOig-g3-Q1ggjlMhfUSdn21Aj5yVVeVvXbis...</td>\n",
       "      <td>F</td>\n",
       "      <td>Y</td>\n",
       "      <td>Y</td>\n",
       "      <td>1</td>\n",
       "      <td>D</td>\n",
       "      <td>D</td>\n",
       "      <td>B</td>\n",
       "      <td>0</td>\n",
       "      <td>1</td>\n",
       "      <td>...</td>\n",
       "      <td>-9.378025</td>\n",
       "      <td>1.485863</td>\n",
       "      <td>7.265876</td>\n",
       "      <td>4.559419</td>\n",
       "      <td>1.537645</td>\n",
       "      <td>0</td>\n",
       "      <td>0</td>\n",
       "      <td>0.154409</td>\n",
       "      <td>4</td>\n",
       "      <td>0</td>\n",
       "    </tr>\n",
       "    <tr>\n",
       "      <th>4</th>\n",
       "      <td>b'gAAAAABinOiXdoaNUzihOSbyY1tjWtd5EgMaXkkvH6SV...</td>\n",
       "      <td>M</td>\n",
       "      <td>N</td>\n",
       "      <td>Y</td>\n",
       "      <td>1</td>\n",
       "      <td>B</td>\n",
       "      <td>D</td>\n",
       "      <td>D</td>\n",
       "      <td>1</td>\n",
       "      <td>l</td>\n",
       "      <td>...</td>\n",
       "      <td>-9.261962</td>\n",
       "      <td>1.619210</td>\n",
       "      <td>3.737647</td>\n",
       "      <td>4.052003</td>\n",
       "      <td>1.637831</td>\n",
       "      <td>0</td>\n",
       "      <td>1</td>\n",
       "      <td>0.737560</td>\n",
       "      <td>1</td>\n",
       "      <td>0</td>\n",
       "    </tr>\n",
       "  </tbody>\n",
       "</table>\n",
       "<p>5 rows × 36 columns</p>\n",
       "</div>"
      ],
      "text/plain": [
       "                                                  id gender s11 s12  s13 s16  \\\n",
       "0  b'gAAAAABinOicS09vrmgh0_JyEHihI13ptO0rCyHP7l76...      M   Y   N    1   D   \n",
       "1  b'gAAAAABinOiWGC1WhR6WYP0DA5ssGv9rIekrWUwCdJ8F...      M   Y   Y    1   D   \n",
       "2  b'gAAAAABinOibTcOBFIVeA4nVF3FuFz_QX3ZlPPFc21gS...      M   Y   Y    1   D   \n",
       "3  b'gAAAAABinOig-g3-Q1ggjlMhfUSdn21Aj5yVVeVvXbis...      F   Y   Y    1   D   \n",
       "4  b'gAAAAABinOiXdoaNUzihOSbyY1tjWtd5EgMaXkkvH6SV...      M   N   Y    1   B   \n",
       "\n",
       "  s17 s18  s48 s52  ...        n7        n8        n9       n10       n11 n12  \\\n",
       "0   D   B    0   1  ... -9.126056  1.732291  3.698504  4.804517  1.544484   0   \n",
       "1   D   B    1   1  ... -9.098287  1.505885  6.791357  6.110416  1.712354   0   \n",
       "2   D   B    0   1  ... -9.234894  1.503828  4.109685  3.953226  1.804260   0   \n",
       "3   D   B    0   1  ... -9.378025  1.485863  7.265876  4.559419  1.537645   0   \n",
       "4   D   D    1   l  ... -9.261962  1.619210  3.737647  4.052003  1.637831   0   \n",
       "\n",
       "   n13       n14 n15 label  \n",
       "0    0  0.631220   5     0  \n",
       "1    0  0.392746   3     1  \n",
       "2    0  0.222537   2     0  \n",
       "3    0  0.154409   4     0  \n",
       "4    1  0.737560   1     0  \n",
       "\n",
       "[5 rows x 36 columns]"
      ]
     },
     "execution_count": 3,
     "metadata": {},
     "output_type": "execute_result"
    }
   ],
   "source": [
    "df.head()"
   ]
  },
  {
   "cell_type": "code",
   "execution_count": 4,
   "metadata": {},
   "outputs": [
    {
     "data": {
      "text/plain": [
       "(28322, 36)"
      ]
     },
     "execution_count": 4,
     "metadata": {},
     "output_type": "execute_result"
    }
   ],
   "source": [
    "df.shape"
   ]
  },
  {
   "cell_type": "code",
   "execution_count": 7,
   "metadata": {},
   "outputs": [
    {
     "data": {
      "text/plain": [
       "id         object\n",
       "gender     object\n",
       "s11        object\n",
       "s12        object\n",
       "s13         int64\n",
       "s16        object\n",
       "s17        object\n",
       "s18        object\n",
       "s48         int64\n",
       "s52        object\n",
       "s53        object\n",
       "s54        object\n",
       "s55        object\n",
       "s56       float64\n",
       "s57       float64\n",
       "s58        object\n",
       "s59       float64\n",
       "s69        object\n",
       "s70        object\n",
       "s71        object\n",
       "n1        float64\n",
       "n2        float64\n",
       "n3          int64\n",
       "n4        float64\n",
       "n5        float64\n",
       "n6        float64\n",
       "n7        float64\n",
       "n8        float64\n",
       "n9        float64\n",
       "n10       float64\n",
       "n11       float64\n",
       "n12         int64\n",
       "n13         int64\n",
       "n14       float64\n",
       "n15         int64\n",
       "label       int64\n",
       "dtype: object"
      ]
     },
     "execution_count": 7,
     "metadata": {},
     "output_type": "execute_result"
    }
   ],
   "source": [
    "df.dtypes"
   ]
  },
  {
   "cell_type": "code",
   "execution_count": 8,
   "metadata": {},
   "outputs": [
    {
     "data": {
      "text/plain": [
       "id            0\n",
       "gender        0\n",
       "s11           0\n",
       "s12           0\n",
       "s13           0\n",
       "s16           0\n",
       "s17           0\n",
       "s18           0\n",
       "s48           0\n",
       "s52           0\n",
       "s53           0\n",
       "s54       25694\n",
       "s55       25116\n",
       "s56       28322\n",
       "s57       28322\n",
       "s58           0\n",
       "s59       28322\n",
       "s69           0\n",
       "s70           0\n",
       "s71           0\n",
       "n1            0\n",
       "n2            0\n",
       "n3            0\n",
       "n4            0\n",
       "n5            0\n",
       "n6            0\n",
       "n7            0\n",
       "n8            0\n",
       "n9            0\n",
       "n10           0\n",
       "n11           0\n",
       "n12           0\n",
       "n13           0\n",
       "n14           0\n",
       "n15           0\n",
       "label         0\n",
       "dtype: int64"
      ]
     },
     "execution_count": 8,
     "metadata": {},
     "output_type": "execute_result"
    }
   ],
   "source": [
    "df.isnull().sum()"
   ]
  },
  {
   "cell_type": "markdown",
   "metadata": {},
   "source": [
    "# Handling Null Values from train set"
   ]
  },
  {
   "cell_type": "code",
   "execution_count": 9,
   "metadata": {},
   "outputs": [
    {
     "data": {
      "text/plain": [
       "<AxesSubplot:>"
      ]
     },
     "execution_count": 9,
     "metadata": {},
     "output_type": "execute_result"
    },
    {
     "data": {
      "image/png": "[encoded data removed]",
      "text/plain": [
       "<Figure size 432x288 with 1 Axes>"
      ]
     },
     "metadata": {
      "needs_background": "light"
     },
     "output_type": "display_data"
    }
   ],
   "source": [
    "sns.heatmap(df.isnull(),yticklabels=False,cbar=False)  "
   ]
  },
  {
   "cell_type": "code",
   "execution_count": 10,
   "metadata": {},
   "outputs": [],
   "source": [
    "def drop_null(*xs):\n",
    "    for x in xs: \n",
    "        if x in df.columns:\n",
    "            print(\"No of null value in\" ,x,':', sum(df[x].isnull()))\n",
    "            df.drop([x],axis=1,inplace=True)\n",
    "    "
   ]
  },
  {
   "cell_type": "code",
   "execution_count": 11,
   "metadata": {},
   "outputs": [
    {
     "name": "stdout",
     "output_type": "stream",
     "text": [
      "No of null value in s54 : 25694\n",
      "No of null value in s55 : 25116\n",
      "No of null value in s56 : 28322\n",
      "No of null value in s57 : 28322\n",
      "No of null value in s59 : 28322\n"
     ]
    }
   ],
   "source": [
    "drop_null('s54','s55','s56','s57','s59')"
   ]
  },
  {
   "cell_type": "code",
   "execution_count": 12,
   "metadata": {},
   "outputs": [
    {
     "data": {
      "text/plain": [
       "      25752\n",
       "       2570\n",
       "Name: s53, dtype: int64"
      ]
     },
     "execution_count": 12,
     "metadata": {},
     "output_type": "execute_result"
    }
   ],
   "source": [
    "df['s53'].value_counts()"
   ]
  },
  {
   "cell_type": "code",
   "execution_count": 13,
   "metadata": {},
   "outputs": [],
   "source": [
    "#    S53 doesn't even have any value which can contribute to our model. Sowe dropped it##############"
   ]
  },
  {
   "cell_type": "code",
   "execution_count": 14,
   "metadata": {},
   "outputs": [
    {
     "name": "stdout",
     "output_type": "stream",
     "text": [
      "No of null value in s53 : 0\n"
     ]
    }
   ],
   "source": [
    "drop_null('s53')"
   ]
  },
  {
   "cell_type": "code",
   "execution_count": 15,
   "metadata": {},
   "outputs": [
    {
     "data": {
      "text/plain": [
       "Index(['id', 'gender', 's11', 's12', 's13', 's16', 's17', 's18', 's48', 's52',\n",
       "       's58', 's69', 's70', 's71', 'n1', 'n2', 'n3', 'n4', 'n5', 'n6', 'n7',\n",
       "       'n8', 'n9', 'n10', 'n11', 'n12', 'n13', 'n14', 'n15', 'label'],\n",
       "      dtype='object')"
      ]
     },
     "execution_count": 15,
     "metadata": {},
     "output_type": "execute_result"
    }
   ],
   "source": [
    "df.columns"
   ]
  },
  {
   "cell_type": "code",
   "execution_count": 16,
   "metadata": {},
   "outputs": [
    {
     "data": {
      "text/plain": [
       "<AxesSubplot:>"
      ]
     },
     "execution_count": 16,
     "metadata": {},
     "output_type": "execute_result"
    },
    {
     "data": {
      "image/png": "[encoded data removed]",
      "text/plain": [
       "<Figure size 432x288 with 1 Axes>"
      ]
     },
     "metadata": {
      "needs_background": "light"
     },
     "output_type": "display_data"
    }
   ],
   "source": [
    "sns.heatmap(df.isnull(),yticklabels=False,cbar=False)  #There is no null value in our training set now"
   ]
  },
  {
   "cell_type": "markdown",
   "metadata": {},
   "source": [
    "# Handling Categorical variable by one hot encoding"
   ]
  },
  {
   "cell_type": "code",
   "execution_count": 17,
   "metadata": {},
   "outputs": [],
   "source": [
    "def one_hot_encoding(*columns):\n",
    "    global df\n",
    "    for x in columns: \n",
    "        if x in df.columns:\n",
    "            one_hot= pd.get_dummies(df[x], prefix=x)\n",
    "            df=df.join(one_hot)\n",
    "            df.drop([x], axis=1,inplace=True)"
   ]
  },
  {
   "cell_type": "code",
   "execution_count": 18,
   "metadata": {},
   "outputs": [
    {
     "data": {
      "text/plain": [
       "['id',\n",
       " 'gender',\n",
       " 's11',\n",
       " 's12',\n",
       " 's16',\n",
       " 's17',\n",
       " 's18',\n",
       " 's52',\n",
       " 's58',\n",
       " 's69',\n",
       " 's70',\n",
       " 's71']"
      ]
     },
     "execution_count": 18,
     "metadata": {},
     "output_type": "execute_result"
    }
   ],
   "source": [
    "categorical_columns=[c for c,t in df.dtypes.to_dict().items() if t.str=='|O']      #Listing the categorical varibles(Id will be excluded)\n",
    "categorical_columns"
   ]
  },
  {
   "cell_type": "code",
   "execution_count": 19,
   "metadata": {},
   "outputs": [],
   "source": [
    "one_hot_encoding('gender','s11','s12','s16','s17','s18','s52','s58','s69','s70','s71')"
   ]
  },
  {
   "cell_type": "code",
   "execution_count": 20,
   "metadata": {},
   "outputs": [
    {
     "data": {
      "text/html": [
       "<div>\n",
       "<style scoped>\n",
       "    .dataframe tbody tr th:only-of-type {\n",
       "        vertical-align: middle;\n",
       "    }\n",
       "\n",
       "    .dataframe tbody tr th {\n",
       "        vertical-align: top;\n",
       "    }\n",
       "\n",
       "    .dataframe thead th {\n",
       "        text-align: right;\n",
       "    }\n",
       "</style>\n",
       "<table border=\"1\" class=\"dataframe\">\n",
       "  <thead>\n",
       "    <tr style=\"text-align: right;\">\n",
       "      <th></th>\n",
       "      <th>id</th>\n",
       "      <th>s13</th>\n",
       "      <th>s48</th>\n",
       "      <th>n1</th>\n",
       "      <th>n2</th>\n",
       "      <th>n3</th>\n",
       "      <th>n4</th>\n",
       "      <th>n5</th>\n",
       "      <th>n6</th>\n",
       "      <th>n7</th>\n",
       "      <th>...</th>\n",
       "      <th>s69_x</th>\n",
       "      <th>s69_~1</th>\n",
       "      <th>s70_op: A</th>\n",
       "      <th>s70_op: B</th>\n",
       "      <th>s70_op: C</th>\n",
       "      <th>s70_op: D</th>\n",
       "      <th>s71_a</th>\n",
       "      <th>s71_b</th>\n",
       "      <th>s71_c</th>\n",
       "      <th>s71_d</th>\n",
       "    </tr>\n",
       "  </thead>\n",
       "  <tbody>\n",
       "    <tr>\n",
       "      <th>0</th>\n",
       "      <td>b'gAAAAABinOicS09vrmgh0_JyEHihI13ptO0rCyHP7l76...</td>\n",
       "      <td>1</td>\n",
       "      <td>0</td>\n",
       "      <td>16.144666</td>\n",
       "      <td>1.989441</td>\n",
       "      <td>2</td>\n",
       "      <td>2.318385</td>\n",
       "      <td>-32.839277</td>\n",
       "      <td>0.017176</td>\n",
       "      <td>-9.126056</td>\n",
       "      <td>...</td>\n",
       "      <td>1</td>\n",
       "      <td>0</td>\n",
       "      <td>0</td>\n",
       "      <td>0</td>\n",
       "      <td>0</td>\n",
       "      <td>1</td>\n",
       "      <td>0</td>\n",
       "      <td>1</td>\n",
       "      <td>0</td>\n",
       "      <td>0</td>\n",
       "    </tr>\n",
       "    <tr>\n",
       "      <th>1</th>\n",
       "      <td>b'gAAAAABinOiWGC1WhR6WYP0DA5ssGv9rIekrWUwCdJ8F...</td>\n",
       "      <td>1</td>\n",
       "      <td>1</td>\n",
       "      <td>7.144558</td>\n",
       "      <td>0.844866</td>\n",
       "      <td>3</td>\n",
       "      <td>6.197768</td>\n",
       "      <td>-32.576597</td>\n",
       "      <td>0.013857</td>\n",
       "      <td>-9.098287</td>\n",
       "      <td>...</td>\n",
       "      <td>1</td>\n",
       "      <td>0</td>\n",
       "      <td>0</td>\n",
       "      <td>0</td>\n",
       "      <td>0</td>\n",
       "      <td>1</td>\n",
       "      <td>0</td>\n",
       "      <td>1</td>\n",
       "      <td>0</td>\n",
       "      <td>0</td>\n",
       "    </tr>\n",
       "    <tr>\n",
       "      <th>2</th>\n",
       "      <td>b'gAAAAABinOibTcOBFIVeA4nVF3FuFz_QX3ZlPPFc21gS...</td>\n",
       "      <td>1</td>\n",
       "      <td>0</td>\n",
       "      <td>6.923236</td>\n",
       "      <td>1.042018</td>\n",
       "      <td>6</td>\n",
       "      <td>7.824401</td>\n",
       "      <td>-32.510544</td>\n",
       "      <td>0.013943</td>\n",
       "      <td>-9.234894</td>\n",
       "      <td>...</td>\n",
       "      <td>1</td>\n",
       "      <td>0</td>\n",
       "      <td>0</td>\n",
       "      <td>0</td>\n",
       "      <td>0</td>\n",
       "      <td>1</td>\n",
       "      <td>0</td>\n",
       "      <td>1</td>\n",
       "      <td>0</td>\n",
       "      <td>0</td>\n",
       "    </tr>\n",
       "    <tr>\n",
       "      <th>3</th>\n",
       "      <td>b'gAAAAABinOig-g3-Q1ggjlMhfUSdn21Aj5yVVeVvXbis...</td>\n",
       "      <td>1</td>\n",
       "      <td>0</td>\n",
       "      <td>5.749840</td>\n",
       "      <td>0.781439</td>\n",
       "      <td>2</td>\n",
       "      <td>8.256767</td>\n",
       "      <td>-32.398679</td>\n",
       "      <td>0.010387</td>\n",
       "      <td>-9.378025</td>\n",
       "      <td>...</td>\n",
       "      <td>1</td>\n",
       "      <td>0</td>\n",
       "      <td>0</td>\n",
       "      <td>0</td>\n",
       "      <td>0</td>\n",
       "      <td>1</td>\n",
       "      <td>0</td>\n",
       "      <td>1</td>\n",
       "      <td>0</td>\n",
       "      <td>0</td>\n",
       "    </tr>\n",
       "    <tr>\n",
       "      <th>4</th>\n",
       "      <td>b'gAAAAABinOiXdoaNUzihOSbyY1tjWtd5EgMaXkkvH6SV...</td>\n",
       "      <td>1</td>\n",
       "      <td>1</td>\n",
       "      <td>14.771959</td>\n",
       "      <td>1.248188</td>\n",
       "      <td>3</td>\n",
       "      <td>2.300011</td>\n",
       "      <td>-32.396746</td>\n",
       "      <td>0.016289</td>\n",
       "      <td>-9.261962</td>\n",
       "      <td>...</td>\n",
       "      <td>0</td>\n",
       "      <td>1</td>\n",
       "      <td>0</td>\n",
       "      <td>0</td>\n",
       "      <td>0</td>\n",
       "      <td>1</td>\n",
       "      <td>0</td>\n",
       "      <td>0</td>\n",
       "      <td>0</td>\n",
       "      <td>1</td>\n",
       "    </tr>\n",
       "  </tbody>\n",
       "</table>\n",
       "<p>5 rows × 55 columns</p>\n",
       "</div>"
      ],
      "text/plain": [
       "                                                  id  s13  s48         n1  \\\n",
       "0  b'gAAAAABinOicS09vrmgh0_JyEHihI13ptO0rCyHP7l76...    1    0  16.144666   \n",
       "1  b'gAAAAABinOiWGC1WhR6WYP0DA5ssGv9rIekrWUwCdJ8F...    1    1   7.144558   \n",
       "2  b'gAAAAABinOibTcOBFIVeA4nVF3FuFz_QX3ZlPPFc21gS...    1    0   6.923236   \n",
       "3  b'gAAAAABinOig-g3-Q1ggjlMhfUSdn21Aj5yVVeVvXbis...    1    0   5.749840   \n",
       "4  b'gAAAAABinOiXdoaNUzihOSbyY1tjWtd5EgMaXkkvH6SV...    1    1  14.771959   \n",
       "\n",
       "         n2  n3        n4         n5        n6        n7  ...  s69_x  s69_~1  \\\n",
       "0  1.989441   2  2.318385 -32.839277  0.017176 -9.126056  ...      1       0   \n",
       "1  0.844866   3  6.197768 -32.576597  0.013857 -9.098287  ...      1       0   \n",
       "2  1.042018   6  7.824401 -32.510544  0.013943 -9.234894  ...      1       0   \n",
       "3  0.781439   2  8.256767 -32.398679  0.010387 -9.378025  ...      1       0   \n",
       "4  1.248188   3  2.300011 -32.396746  0.016289 -9.261962  ...      0       1   \n",
       "\n",
       "   s70_op: A  s70_op: B  s70_op: C  s70_op: D  s71_a  s71_b  s71_c  s71_d  \n",
       "0          0          0          0          1      0      1      0      0  \n",
       "1          0          0          0          1      0      1      0      0  \n",
       "2          0          0          0          1      0      1      0      0  \n",
       "3          0          0          0          1      0      1      0      0  \n",
       "4          0          0          0          1      0      0      0      1  \n",
       "\n",
       "[5 rows x 55 columns]"
      ]
     },
     "execution_count": 20,
     "metadata": {},
     "output_type": "execute_result"
    }
   ],
   "source": [
    "df.head()"
   ]
  },
  {
   "cell_type": "markdown",
   "metadata": {},
   "source": [
    "# Handling Imbalace data"
   ]
  },
  {
   "cell_type": "code",
   "execution_count": 21,
   "metadata": {},
   "outputs": [
    {
     "data": {
      "text/plain": [
       "0    23562\n",
       "1     4760\n",
       "Name: label, dtype: int64"
      ]
     },
     "execution_count": 21,
     "metadata": {},
     "output_type": "execute_result"
    }
   ],
   "source": [
    "df['label'].value_counts()        # We have highly imbalaced data which need to taken care of\""
   ]
  },
  {
   "cell_type": "markdown",
   "metadata": {},
   "source": [
    "Use SMOTE for upsampling"
   ]
  },
  {
   "cell_type": "code",
   "execution_count": 22,
   "metadata": {},
   "outputs": [],
   "source": [
    "from imblearn.over_sampling import SMOTE"
   ]
  },
  {
   "cell_type": "code",
   "execution_count": 23,
   "metadata": {},
   "outputs": [],
   "source": [
    "x=df.drop(['id','label'],axis=1)   #Features(Removing ID as it is unique for all rows)\n",
    "y=df['label']"
   ]
  },
  {
   "cell_type": "code",
   "execution_count": 24,
   "metadata": {},
   "outputs": [
    {
     "data": {
      "text/plain": [
       "0    23562\n",
       "1    23562\n",
       "Name: label, dtype: int64"
      ]
     },
     "execution_count": 24,
     "metadata": {},
     "output_type": "execute_result"
    }
   ],
   "source": [
    "smote = SMOTE(sampling_strategy='minority')\n",
    "X_sm, y_sm = smote.fit_sample(x, y)\n",
    "\n",
    "y_sm.value_counts()"
   ]
  },
  {
   "cell_type": "code",
   "execution_count": 25,
   "metadata": {},
   "outputs": [],
   "source": [
    "df_smote=X_sm.join(y_sm)"
   ]
  },
  {
   "cell_type": "code",
   "execution_count": 26,
   "metadata": {},
   "outputs": [
    {
     "data": {
      "text/html": [
       "<div>\n",
       "<style scoped>\n",
       "    .dataframe tbody tr th:only-of-type {\n",
       "        vertical-align: middle;\n",
       "    }\n",
       "\n",
       "    .dataframe tbody tr th {\n",
       "        vertical-align: top;\n",
       "    }\n",
       "\n",
       "    .dataframe thead th {\n",
       "        text-align: right;\n",
       "    }\n",
       "</style>\n",
       "<table border=\"1\" class=\"dataframe\">\n",
       "  <thead>\n",
       "    <tr style=\"text-align: right;\">\n",
       "      <th></th>\n",
       "      <th>s13</th>\n",
       "      <th>s48</th>\n",
       "      <th>n1</th>\n",
       "      <th>n2</th>\n",
       "      <th>n3</th>\n",
       "      <th>n4</th>\n",
       "      <th>n5</th>\n",
       "      <th>n6</th>\n",
       "      <th>n7</th>\n",
       "      <th>n8</th>\n",
       "      <th>...</th>\n",
       "      <th>s69_~1</th>\n",
       "      <th>s70_op: A</th>\n",
       "      <th>s70_op: B</th>\n",
       "      <th>s70_op: C</th>\n",
       "      <th>s70_op: D</th>\n",
       "      <th>s71_a</th>\n",
       "      <th>s71_b</th>\n",
       "      <th>s71_c</th>\n",
       "      <th>s71_d</th>\n",
       "      <th>label</th>\n",
       "    </tr>\n",
       "  </thead>\n",
       "  <tbody>\n",
       "    <tr>\n",
       "      <th>0</th>\n",
       "      <td>1</td>\n",
       "      <td>0</td>\n",
       "      <td>16.144666</td>\n",
       "      <td>1.989441</td>\n",
       "      <td>2</td>\n",
       "      <td>2.318385</td>\n",
       "      <td>-32.839277</td>\n",
       "      <td>0.017176</td>\n",
       "      <td>-9.126056</td>\n",
       "      <td>1.732291</td>\n",
       "      <td>...</td>\n",
       "      <td>0</td>\n",
       "      <td>0</td>\n",
       "      <td>0</td>\n",
       "      <td>0</td>\n",
       "      <td>1</td>\n",
       "      <td>0</td>\n",
       "      <td>1</td>\n",
       "      <td>0</td>\n",
       "      <td>0</td>\n",
       "      <td>0</td>\n",
       "    </tr>\n",
       "    <tr>\n",
       "      <th>1</th>\n",
       "      <td>1</td>\n",
       "      <td>1</td>\n",
       "      <td>7.144558</td>\n",
       "      <td>0.844866</td>\n",
       "      <td>3</td>\n",
       "      <td>6.197768</td>\n",
       "      <td>-32.576597</td>\n",
       "      <td>0.013857</td>\n",
       "      <td>-9.098287</td>\n",
       "      <td>1.505885</td>\n",
       "      <td>...</td>\n",
       "      <td>0</td>\n",
       "      <td>0</td>\n",
       "      <td>0</td>\n",
       "      <td>0</td>\n",
       "      <td>1</td>\n",
       "      <td>0</td>\n",
       "      <td>1</td>\n",
       "      <td>0</td>\n",
       "      <td>0</td>\n",
       "      <td>1</td>\n",
       "    </tr>\n",
       "    <tr>\n",
       "      <th>2</th>\n",
       "      <td>1</td>\n",
       "      <td>0</td>\n",
       "      <td>6.923236</td>\n",
       "      <td>1.042018</td>\n",
       "      <td>6</td>\n",
       "      <td>7.824401</td>\n",
       "      <td>-32.510544</td>\n",
       "      <td>0.013943</td>\n",
       "      <td>-9.234894</td>\n",
       "      <td>1.503828</td>\n",
       "      <td>...</td>\n",
       "      <td>0</td>\n",
       "      <td>0</td>\n",
       "      <td>0</td>\n",
       "      <td>0</td>\n",
       "      <td>1</td>\n",
       "      <td>0</td>\n",
       "      <td>1</td>\n",
       "      <td>0</td>\n",
       "      <td>0</td>\n",
       "      <td>0</td>\n",
       "    </tr>\n",
       "    <tr>\n",
       "      <th>3</th>\n",
       "      <td>1</td>\n",
       "      <td>0</td>\n",
       "      <td>5.749840</td>\n",
       "      <td>0.781439</td>\n",
       "      <td>2</td>\n",
       "      <td>8.256767</td>\n",
       "      <td>-32.398679</td>\n",
       "      <td>0.010387</td>\n",
       "      <td>-9.378025</td>\n",
       "      <td>1.485863</td>\n",
       "      <td>...</td>\n",
       "      <td>0</td>\n",
       "      <td>0</td>\n",
       "      <td>0</td>\n",
       "      <td>0</td>\n",
       "      <td>1</td>\n",
       "      <td>0</td>\n",
       "      <td>1</td>\n",
       "      <td>0</td>\n",
       "      <td>0</td>\n",
       "      <td>0</td>\n",
       "    </tr>\n",
       "    <tr>\n",
       "      <th>4</th>\n",
       "      <td>1</td>\n",
       "      <td>1</td>\n",
       "      <td>14.771959</td>\n",
       "      <td>1.248188</td>\n",
       "      <td>3</td>\n",
       "      <td>2.300011</td>\n",
       "      <td>-32.396746</td>\n",
       "      <td>0.016289</td>\n",
       "      <td>-9.261962</td>\n",
       "      <td>1.619210</td>\n",
       "      <td>...</td>\n",
       "      <td>1</td>\n",
       "      <td>0</td>\n",
       "      <td>0</td>\n",
       "      <td>0</td>\n",
       "      <td>1</td>\n",
       "      <td>0</td>\n",
       "      <td>0</td>\n",
       "      <td>0</td>\n",
       "      <td>1</td>\n",
       "      <td>0</td>\n",
       "    </tr>\n",
       "    <tr>\n",
       "      <th>...</th>\n",
       "      <td>...</td>\n",
       "      <td>...</td>\n",
       "      <td>...</td>\n",
       "      <td>...</td>\n",
       "      <td>...</td>\n",
       "      <td>...</td>\n",
       "      <td>...</td>\n",
       "      <td>...</td>\n",
       "      <td>...</td>\n",
       "      <td>...</td>\n",
       "      <td>...</td>\n",
       "      <td>...</td>\n",
       "      <td>...</td>\n",
       "      <td>...</td>\n",
       "      <td>...</td>\n",
       "      <td>...</td>\n",
       "      <td>...</td>\n",
       "      <td>...</td>\n",
       "      <td>...</td>\n",
       "      <td>...</td>\n",
       "      <td>...</td>\n",
       "    </tr>\n",
       "    <tr>\n",
       "      <th>47119</th>\n",
       "      <td>1</td>\n",
       "      <td>1</td>\n",
       "      <td>16.134090</td>\n",
       "      <td>2.508036</td>\n",
       "      <td>2</td>\n",
       "      <td>2.688060</td>\n",
       "      <td>-32.362738</td>\n",
       "      <td>0.021888</td>\n",
       "      <td>-9.059848</td>\n",
       "      <td>1.970531</td>\n",
       "      <td>...</td>\n",
       "      <td>1</td>\n",
       "      <td>0</td>\n",
       "      <td>0</td>\n",
       "      <td>0</td>\n",
       "      <td>1</td>\n",
       "      <td>0</td>\n",
       "      <td>1</td>\n",
       "      <td>0</td>\n",
       "      <td>0</td>\n",
       "      <td>1</td>\n",
       "    </tr>\n",
       "    <tr>\n",
       "      <th>47120</th>\n",
       "      <td>1</td>\n",
       "      <td>0</td>\n",
       "      <td>11.982624</td>\n",
       "      <td>1.936055</td>\n",
       "      <td>1</td>\n",
       "      <td>7.720266</td>\n",
       "      <td>-32.398907</td>\n",
       "      <td>0.028084</td>\n",
       "      <td>-9.197888</td>\n",
       "      <td>1.981239</td>\n",
       "      <td>...</td>\n",
       "      <td>1</td>\n",
       "      <td>0</td>\n",
       "      <td>0</td>\n",
       "      <td>1</td>\n",
       "      <td>0</td>\n",
       "      <td>0</td>\n",
       "      <td>0</td>\n",
       "      <td>1</td>\n",
       "      <td>0</td>\n",
       "      <td>1</td>\n",
       "    </tr>\n",
       "    <tr>\n",
       "      <th>47121</th>\n",
       "      <td>1</td>\n",
       "      <td>0</td>\n",
       "      <td>10.508524</td>\n",
       "      <td>2.220934</td>\n",
       "      <td>7</td>\n",
       "      <td>7.800212</td>\n",
       "      <td>-33.050185</td>\n",
       "      <td>0.006620</td>\n",
       "      <td>-8.981937</td>\n",
       "      <td>1.907238</td>\n",
       "      <td>...</td>\n",
       "      <td>0</td>\n",
       "      <td>0</td>\n",
       "      <td>0</td>\n",
       "      <td>0</td>\n",
       "      <td>1</td>\n",
       "      <td>0</td>\n",
       "      <td>1</td>\n",
       "      <td>0</td>\n",
       "      <td>0</td>\n",
       "      <td>1</td>\n",
       "    </tr>\n",
       "    <tr>\n",
       "      <th>47122</th>\n",
       "      <td>1</td>\n",
       "      <td>1</td>\n",
       "      <td>13.108636</td>\n",
       "      <td>1.913104</td>\n",
       "      <td>7</td>\n",
       "      <td>6.121247</td>\n",
       "      <td>-32.928034</td>\n",
       "      <td>0.006047</td>\n",
       "      <td>-8.962397</td>\n",
       "      <td>1.886723</td>\n",
       "      <td>...</td>\n",
       "      <td>1</td>\n",
       "      <td>0</td>\n",
       "      <td>0</td>\n",
       "      <td>0</td>\n",
       "      <td>1</td>\n",
       "      <td>0</td>\n",
       "      <td>1</td>\n",
       "      <td>0</td>\n",
       "      <td>0</td>\n",
       "      <td>1</td>\n",
       "    </tr>\n",
       "    <tr>\n",
       "      <th>47123</th>\n",
       "      <td>0</td>\n",
       "      <td>0</td>\n",
       "      <td>16.419211</td>\n",
       "      <td>2.265455</td>\n",
       "      <td>6</td>\n",
       "      <td>6.823011</td>\n",
       "      <td>-32.427077</td>\n",
       "      <td>0.023510</td>\n",
       "      <td>-8.870968</td>\n",
       "      <td>1.571684</td>\n",
       "      <td>...</td>\n",
       "      <td>1</td>\n",
       "      <td>0</td>\n",
       "      <td>0</td>\n",
       "      <td>0</td>\n",
       "      <td>1</td>\n",
       "      <td>0</td>\n",
       "      <td>0</td>\n",
       "      <td>0</td>\n",
       "      <td>0</td>\n",
       "      <td>1</td>\n",
       "    </tr>\n",
       "  </tbody>\n",
       "</table>\n",
       "<p>47124 rows × 54 columns</p>\n",
       "</div>"
      ],
      "text/plain": [
       "       s13  s48         n1        n2  n3        n4         n5        n6  \\\n",
       "0        1    0  16.144666  1.989441   2  2.318385 -32.839277  0.017176   \n",
       "1        1    1   7.144558  0.844866   3  6.197768 -32.576597  0.013857   \n",
       "2        1    0   6.923236  1.042018   6  7.824401 -32.510544  0.013943   \n",
       "3        1    0   5.749840  0.781439   2  8.256767 -32.398679  0.010387   \n",
       "4        1    1  14.771959  1.248188   3  2.300011 -32.396746  0.016289   \n",
       "...    ...  ...        ...       ...  ..       ...        ...       ...   \n",
       "47119    1    1  16.134090  2.508036   2  2.688060 -32.362738  0.021888   \n",
       "47120    1    0  11.982624  1.936055   1  7.720266 -32.398907  0.028084   \n",
       "47121    1    0  10.508524  2.220934   7  7.800212 -33.050185  0.006620   \n",
       "47122    1    1  13.108636  1.913104   7  6.121247 -32.928034  0.006047   \n",
       "47123    0    0  16.419211  2.265455   6  6.823011 -32.427077  0.023510   \n",
       "\n",
       "             n7        n8  ...  s69_~1  s70_op: A  s70_op: B  s70_op: C  \\\n",
       "0     -9.126056  1.732291  ...       0          0          0          0   \n",
       "1     -9.098287  1.505885  ...       0          0          0          0   \n",
       "2     -9.234894  1.503828  ...       0          0          0          0   \n",
       "3     -9.378025  1.485863  ...       0          0          0          0   \n",
       "4     -9.261962  1.619210  ...       1          0          0          0   \n",
       "...         ...       ...  ...     ...        ...        ...        ...   \n",
       "47119 -9.059848  1.970531  ...       1          0          0          0   \n",
       "47120 -9.197888  1.981239  ...       1          0          0          1   \n",
       "47121 -8.981937  1.907238  ...       0          0          0          0   \n",
       "47122 -8.962397  1.886723  ...       1          0          0          0   \n",
       "47123 -8.870968  1.571684  ...       1          0          0          0   \n",
       "\n",
       "       s70_op: D  s71_a  s71_b  s71_c  s71_d  label  \n",
       "0              1      0      1      0      0      0  \n",
       "1              1      0      1      0      0      1  \n",
       "2              1      0      1      0      0      0  \n",
       "3              1      0      1      0      0      0  \n",
       "4              1      0      0      0      1      0  \n",
       "...          ...    ...    ...    ...    ...    ...  \n",
       "47119          1      0      1      0      0      1  \n",
       "47120          0      0      0      1      0      1  \n",
       "47121          1      0      1      0      0      1  \n",
       "47122          1      0      1      0      0      1  \n",
       "47123          1      0      0      0      0      1  \n",
       "\n",
       "[47124 rows x 54 columns]"
      ]
     },
     "execution_count": 26,
     "metadata": {},
     "output_type": "execute_result"
    }
   ],
   "source": [
    "df_smote"
   ]
  },
  {
   "cell_type": "code",
   "execution_count": 44,
   "metadata": {},
   "outputs": [],
   "source": [
    "x=df_smote.drop(['label'],axis=1)   #Features(Removing ID as it is unique for all rows)\n",
    "y=df_smote['label']"
   ]
  },
  {
   "cell_type": "code",
   "execution_count": null,
   "metadata": {},
   "outputs": [],
   "source": []
  },
  {
   "cell_type": "markdown",
   "metadata": {},
   "source": [
    "# Train test split for performance checking"
   ]
  },
  {
   "cell_type": "code",
   "execution_count": 45,
   "metadata": {},
   "outputs": [],
   "source": [
    "from sklearn.model_selection import train_test_split"
   ]
  },
  {
   "cell_type": "code",
   "execution_count": 46,
   "metadata": {},
   "outputs": [],
   "source": [
    "X_train, X_test, y_train, y_test = train_test_split(x, y, test_size=0.2, random_state=10)"
   ]
  },
  {
   "cell_type": "markdown",
   "metadata": {},
   "source": [
    "# Model Train"
   ]
  },
  {
   "cell_type": "code",
   "execution_count": 47,
   "metadata": {},
   "outputs": [],
   "source": [
    "from sklearn.model_selection import RandomizedSearchCV, GridSearchCV\n",
    "import xgboost"
   ]
  },
  {
   "cell_type": "code",
   "execution_count": 48,
   "metadata": {},
   "outputs": [],
   "source": [
    "params={\n",
    " \"learning_rate\"    : [0.05, 0.10, 0.15, 0.20, 0.25, 0.5,1] ,\n",
    " \"max_depth\"        : [ 3, 4, 5, 6, 8, 10, 12, 15],\n",
    " \"min_child_weight\" : [ 1, 3, 5, 7 ],\n",
    " \"gamma\"            : [ 0.0, 0.1, 0.2 , 0.3, 0.4 ],\n",
    " \"colsample_bytree\" : [ 0.3, 0.4, 0.5 , 0.7 ]\n",
    "    \n",
    "}"
   ]
  },
  {
   "cell_type": "code",
   "execution_count": 49,
   "metadata": {},
   "outputs": [],
   "source": [
    "classifier=xgboost.XGBClassifier()"
   ]
  },
  {
   "cell_type": "code",
   "execution_count": 50,
   "metadata": {},
   "outputs": [],
   "source": [
    "random_search=RandomizedSearchCV(classifier,param_distributions=params,n_iter=5,scoring='roc_auc',n_jobs=-1,cv=5,verbose=3)"
   ]
  },
  {
   "cell_type": "code",
   "execution_count": 51,
   "metadata": {},
   "outputs": [
    {
     "name": "stdout",
     "output_type": "stream",
     "text": [
      "Fitting 5 folds for each of 5 candidates, totalling 25 fits\n"
     ]
    },
    {
     "data": {
      "text/plain": [
       "RandomizedSearchCV(cv=5,\n",
       "                   estimator=XGBClassifier(base_score=None, booster=None,\n",
       "                                           callbacks=None,\n",
       "                                           colsample_bylevel=None,\n",
       "                                           colsample_bynode=None,\n",
       "                                           colsample_bytree=None,\n",
       "                                           early_stopping_rounds=None,\n",
       "                                           enable_categorical=False,\n",
       "                                           eval_metric=None, gamma=None,\n",
       "                                           gpu_id=None, grow_policy=None,\n",
       "                                           importance_type=None,\n",
       "                                           interaction_constraints=None,\n",
       "                                           learning_rate=None, max_bin=None,...\n",
       "                                           n_estimators=100, n_jobs=None,\n",
       "                                           num_parallel_tree=None,\n",
       "                                           predictor=None, random_state=None,\n",
       "                                           reg_alpha=None, reg_lambda=None, ...),\n",
       "                   n_iter=5, n_jobs=-1,\n",
       "                   param_distributions={'colsample_bytree': [0.3, 0.4, 0.5,\n",
       "                                                             0.7],\n",
       "                                        'gamma': [0.0, 0.1, 0.2, 0.3, 0.4],\n",
       "                                        'learning_rate': [0.05, 0.1, 0.15, 0.2,\n",
       "                                                          0.25, 0.5, 1],\n",
       "                                        'max_depth': [3, 4, 5, 6, 8, 10, 12,\n",
       "                                                      15],\n",
       "                                        'min_child_weight': [1, 3, 5, 7]},\n",
       "                   scoring='roc_auc', verbose=3)"
      ]
     },
     "execution_count": 51,
     "metadata": {},
     "output_type": "execute_result"
    }
   ],
   "source": [
    "random_search.fit(X_train, y_train)"
   ]
  },
  {
   "cell_type": "code",
   "execution_count": 52,
   "metadata": {},
   "outputs": [
    {
     "data": {
      "text/plain": [
       "XGBClassifier(base_score=0.5, booster='gbtree', callbacks=None,\n",
       "              colsample_bylevel=1, colsample_bynode=1, colsample_bytree=0.3,\n",
       "              early_stopping_rounds=None, enable_categorical=False,\n",
       "              eval_metric=None, gamma=0.3, gpu_id=-1, grow_policy='depthwise',\n",
       "              importance_type=None, interaction_constraints='',\n",
       "              learning_rate=0.1, max_bin=256, max_cat_to_onehot=4,\n",
       "              max_delta_step=0, max_depth=10, max_leaves=0, min_child_weight=1,\n",
       "              missing=nan, monotone_constraints='()', n_estimators=100,\n",
       "              n_jobs=0, num_parallel_tree=1, predictor='auto', random_state=0,\n",
       "              reg_alpha=0, reg_lambda=1, ...)"
      ]
     },
     "execution_count": 52,
     "metadata": {},
     "output_type": "execute_result"
    }
   ],
   "source": [
    "random_search.best_estimator_"
   ]
  },
  {
   "cell_type": "code",
   "execution_count": 53,
   "metadata": {},
   "outputs": [
    {
     "data": {
      "text/plain": [
       "{'min_child_weight': 1,\n",
       " 'max_depth': 10,\n",
       " 'learning_rate': 0.1,\n",
       " 'gamma': 0.3,\n",
       " 'colsample_bytree': 0.3}"
      ]
     },
     "execution_count": 53,
     "metadata": {},
     "output_type": "execute_result"
    }
   ],
   "source": [
    "random_search.best_params_"
   ]
  },
  {
   "cell_type": "code",
   "execution_count": 54,
   "metadata": {},
   "outputs": [],
   "source": [
    "classifier=xgboost.XGBClassifier(base_score=0.5, booster='gbtree', callbacks=None,\n",
    "              colsample_bylevel=1, colsample_bynode=1, colsample_bytree=0.3,\n",
    "              early_stopping_rounds=None, enable_categorical=False,\n",
    "              eval_metric=None, gamma=0.1, gpu_id=-1, grow_policy='depthwise',\n",
    "              importance_type=None, interaction_constraints='',\n",
    "              learning_rate=0.1, max_bin=256, max_cat_to_onehot=4,\n",
    "              max_delta_step=0, max_depth=4, max_leaves=0, min_child_weight=5,\n",
    "               monotone_constraints='()', n_estimators=100,\n",
    "              n_jobs=0, num_parallel_tree=1, predictor='auto', random_state=0,\n",
    "              reg_alpha=0, reg_lambda=1)"
   ]
  },
  {
   "cell_type": "code",
   "execution_count": 55,
   "metadata": {},
   "outputs": [],
   "source": [
    "from sklearn.model_selection import cross_val_score\n",
    "score=cross_val_score(classifier,X_train, y_train,cv=5)"
   ]
  },
  {
   "cell_type": "code",
   "execution_count": 56,
   "metadata": {},
   "outputs": [
    {
     "data": {
      "text/plain": [
       "0.8780870050450302"
      ]
     },
     "execution_count": 56,
     "metadata": {},
     "output_type": "execute_result"
    }
   ],
   "source": [
    "score.mean()"
   ]
  },
  {
   "cell_type": "code",
   "execution_count": 57,
   "metadata": {},
   "outputs": [
    {
     "name": "stdout",
     "output_type": "stream",
     "text": [
      "ACCURACY OF THE MODEL:  0.9141644562334218\n",
      "ROC OF THE MODEL:  0.9702839987145825\n",
      "\n",
      "              precision    recall  f1-score   support\n",
      "\n",
      "           0       0.91      0.92      0.92      4753\n",
      "           1       0.92      0.91      0.91      4672\n",
      "\n",
      "    accuracy                           0.91      9425\n",
      "   macro avg       0.91      0.91      0.91      9425\n",
      "weighted avg       0.91      0.91      0.91      9425\n",
      "\n"
     ]
    },
    {
     "name": "stderr",
     "output_type": "stream",
     "text": [
      "C:\\Users\\Asus\\.conda\\envs\\tensorflow\\lib\\site-packages\\sklearn\\utils\\deprecation.py:87: FutureWarning: Function plot_confusion_matrix is deprecated; Function `plot_confusion_matrix` is deprecated in 1.0 and will be removed in 1.2. Use one of the class methods: ConfusionMatrixDisplay.from_predictions or ConfusionMatrixDisplay.from_estimator.\n",
      "  warnings.warn(msg, category=FutureWarning)\n"
     ]
    },
    {
     "data": {
      "text/plain": [
       "<sklearn.metrics._plot.confusion_matrix.ConfusionMatrixDisplay at 0x1548606cd08>"
      ]
     },
     "execution_count": 57,
     "metadata": {},
     "output_type": "execute_result"
    },
    {
     "data": {
      "image/png": "[encoded data removed]",
      "text/plain": [
       "<Figure size 432x288 with 2 Axes>"
      ]
     },
     "metadata": {
      "needs_background": "light"
     },
     "output_type": "display_data"
    }
   ],
   "source": [
    "from sklearn import metrics\n",
    "from sklearn.metrics import classification_report\n",
    "from sklearn.metrics import plot_confusion_matrix\n",
    "y_pred = random_search.predict(X_test)\n",
    "\n",
    "print(\"ACCURACY OF THE MODEL: \", metrics.accuracy_score(y_test, y_pred))\n",
    "from sklearn.metrics import roc_auc_score\n",
    "print(\"ROC OF THE MODEL: \",roc_auc_score(y_test, random_search.predict_proba(X_test)[:, 1]))\n",
    "print()\n",
    "print(classification_report(y_test, y_pred))\n",
    "\n",
    "plot_confusion_matrix(random_search, X_test, y_test)"
   ]
  },
  {
   "cell_type": "code",
   "execution_count": null,
   "metadata": {},
   "outputs": [],
   "source": []
  },
  {
   "cell_type": "markdown",
   "metadata": {},
   "source": [
    "Random Forest"
   ]
  },
  {
   "cell_type": "code",
   "execution_count": 74,
   "metadata": {},
   "outputs": [],
   "source": [
    "n_estimators = [100,150,220,250]\n",
    "# Number of features to consider at every split\n",
    "# Minimum number of samples required to split a node\n",
    "min_samples_split = [2, 5, 7]\n",
    "# Minimum number of samples required at each leaf node\n",
    "min_samples_leaf = [1, 2]"
   ]
  },
  {
   "cell_type": "code",
   "execution_count": 75,
   "metadata": {},
   "outputs": [
    {
     "name": "stdout",
     "output_type": "stream",
     "text": [
      "{'n_estimators': [100, 150, 220, 250], 'min_samples_split': [2, 5, 7], 'min_samples_leaf': [1, 2]}\n"
     ]
    }
   ],
   "source": [
    "param_grid = {'n_estimators': n_estimators,\n",
    "               'min_samples_split': min_samples_split,\n",
    "               'min_samples_leaf': min_samples_leaf,}\n",
    "print(param_grid)"
   ]
  },
  {
   "cell_type": "code",
   "execution_count": 76,
   "metadata": {},
   "outputs": [],
   "source": [
    "from sklearn.ensemble import RandomForestClassifier\n",
    "rf_Model = RandomForestClassifier()"
   ]
  },
  {
   "cell_type": "code",
   "execution_count": 79,
   "metadata": {},
   "outputs": [],
   "source": [
    "\n",
    "rf_RandomGrid = RandomizedSearchCV(estimator = rf_Model, param_distributions = param_grid, cv = 5, verbose=2, n_jobs = 4)"
   ]
  },
  {
   "cell_type": "code",
   "execution_count": 80,
   "metadata": {},
   "outputs": [
    {
     "name": "stdout",
     "output_type": "stream",
     "text": [
      "Fitting 5 folds for each of 10 candidates, totalling 50 fits\n"
     ]
    },
    {
     "data": {
      "text/plain": [
       "RandomizedSearchCV(cv=5, estimator=RandomForestClassifier(), n_jobs=4,\n",
       "                   param_distributions={'min_samples_leaf': [1, 2],\n",
       "                                        'min_samples_split': [2, 5, 7],\n",
       "                                        'n_estimators': [100, 150, 220, 250]},\n",
       "                   verbose=2)"
      ]
     },
     "execution_count": 80,
     "metadata": {},
     "output_type": "execute_result"
    }
   ],
   "source": [
    "rf_RandomGrid.fit(X_train, y_train)"
   ]
  },
  {
   "cell_type": "code",
   "execution_count": 81,
   "metadata": {},
   "outputs": [
    {
     "data": {
      "text/plain": [
       "{'n_estimators': 220, 'min_samples_split': 2, 'min_samples_leaf': 1}"
      ]
     },
     "execution_count": 81,
     "metadata": {},
     "output_type": "execute_result"
    }
   ],
   "source": [
    "rf_RandomGrid.best_params_"
   ]
  },
  {
   "cell_type": "code",
   "execution_count": 82,
   "metadata": {},
   "outputs": [
    {
     "data": {
      "text/plain": [
       "RandomForestClassifier(n_estimators=220)"
      ]
     },
     "execution_count": 82,
     "metadata": {},
     "output_type": "execute_result"
    }
   ],
   "source": [
    "rf_RandomGrid.best_estimator_"
   ]
  },
  {
   "cell_type": "code",
   "execution_count": 83,
   "metadata": {},
   "outputs": [],
   "source": [
    "rf_classifier=RandomForestClassifier(bootstrap=False, max_depth=6, max_features='sqrt',\n",
    "                       min_samples_leaf=2, min_samples_split=5)"
   ]
  },
  {
   "cell_type": "code",
   "execution_count": 84,
   "metadata": {},
   "outputs": [],
   "source": [
    "from sklearn.model_selection import cross_val_score\n",
    "score=cross_val_score(rf_classifier,X_train, y_train,cv=5)"
   ]
  },
  {
   "cell_type": "code",
   "execution_count": 85,
   "metadata": {},
   "outputs": [
    {
     "data": {
      "text/plain": [
       "0.8194647567397544"
      ]
     },
     "execution_count": 85,
     "metadata": {},
     "output_type": "execute_result"
    }
   ],
   "source": [
    "score.mean()"
   ]
  },
  {
   "cell_type": "code",
   "execution_count": 86,
   "metadata": {},
   "outputs": [
    {
     "name": "stdout",
     "output_type": "stream",
     "text": [
      "Train Accuracy - : 1.000\n",
      "Test Accuracy - : 0.921\n"
     ]
    }
   ],
   "source": [
    "print (f'Train Accuracy - : {rf_RandomGrid.score(X_train,y_train):.3f}')\n",
    "print (f'Test Accuracy - : {rf_RandomGrid.score(X_test,y_test):.3f}')"
   ]
  },
  {
   "cell_type": "code",
   "execution_count": 87,
   "metadata": {},
   "outputs": [
    {
     "name": "stdout",
     "output_type": "stream",
     "text": [
      "ACCURACY OF THE MODEL:  0.9208488063660477\n",
      "ROC OF THE MODEL:  0.9756612352256253\n",
      "\n",
      "              precision    recall  f1-score   support\n",
      "\n",
      "           0       0.92      0.92      0.92      4753\n",
      "           1       0.92      0.92      0.92      4672\n",
      "\n",
      "    accuracy                           0.92      9425\n",
      "   macro avg       0.92      0.92      0.92      9425\n",
      "weighted avg       0.92      0.92      0.92      9425\n",
      "\n"
     ]
    },
    {
     "name": "stderr",
     "output_type": "stream",
     "text": [
      "C:\\Users\\Asus\\.conda\\envs\\tensorflow\\lib\\site-packages\\sklearn\\utils\\deprecation.py:87: FutureWarning: Function plot_confusion_matrix is deprecated; Function `plot_confusion_matrix` is deprecated in 1.0 and will be removed in 1.2. Use one of the class methods: ConfusionMatrixDisplay.from_predictions or ConfusionMatrixDisplay.from_estimator.\n",
      "  warnings.warn(msg, category=FutureWarning)\n"
     ]
    },
    {
     "data": {
      "text/plain": [
       "<sklearn.metrics._plot.confusion_matrix.ConfusionMatrixDisplay at 0x154896e61c8>"
      ]
     },
     "execution_count": 87,
     "metadata": {},
     "output_type": "execute_result"
    },
    {
     "data": {
      "image/png": "[encoded data removed]",
      "text/plain": [
       "<Figure size 432x288 with 2 Axes>"
      ]
     },
     "metadata": {
      "needs_background": "light"
     },
     "output_type": "display_data"
    }
   ],
   "source": [
    "y_pred = rf_RandomGrid.predict(X_test)\n",
    "\n",
    "print(\"ACCURACY OF THE MODEL: \", metrics.accuracy_score(y_test, y_pred))\n",
    "from sklearn.metrics import roc_auc_score\n",
    "print(\"ROC OF THE MODEL: \",roc_auc_score(y_test, rf_RandomGrid.predict_proba(X_test)[:, 1]))\n",
    "print()\n",
    "print(classification_report(y_test, y_pred))\n",
    "\n",
    "plot_confusion_matrix(rf_RandomGrid, X_test, y_test)"
   ]
  },
  {
   "cell_type": "markdown",
   "metadata": {},
   "source": [
    "Logistic regression"
   ]
  },
  {
   "cell_type": "code",
   "execution_count": 88,
   "metadata": {},
   "outputs": [],
   "source": [
    "from sklearn.linear_model import LogisticRegression"
   ]
  },
  {
   "cell_type": "code",
   "execution_count": 91,
   "metadata": {},
   "outputs": [],
   "source": [
    "logModel = LogisticRegression()"
   ]
  },
  {
   "cell_type": "code",
   "execution_count": 92,
   "metadata": {},
   "outputs": [],
   "source": [
    "param_grid = [    \n",
    "    {'penalty' : ['l1', 'l2', 'elasticnet', 'none'],\n",
    "    'C' : np.logspace(-4, 4, 20),\n",
    "    'solver' : ['lbfgs','newton-cg','liblinear','sag','saga'],\n",
    "    'max_iter' : [100, 1000,2500, 5000]\n",
    "    }\n",
    "]"
   ]
  },
  {
   "cell_type": "code",
   "execution_count": 93,
   "metadata": {},
   "outputs": [],
   "source": [
    "logistic_RandomGrid = RandomizedSearchCV(estimator = logModel, param_distributions = param_grid, cv = 5, verbose=2, n_jobs = -1)"
   ]
  },
  {
   "cell_type": "code",
   "execution_count": 94,
   "metadata": {},
   "outputs": [
    {
     "name": "stdout",
     "output_type": "stream",
     "text": [
      "Fitting 5 folds for each of 10 candidates, totalling 50 fits\n"
     ]
    },
    {
     "name": "stderr",
     "output_type": "stream",
     "text": [
      "C:\\Users\\Asus\\.conda\\envs\\tensorflow\\lib\\site-packages\\sklearn\\model_selection\\_validation.py:372: FitFailedWarning: \n",
      "20 fits failed out of a total of 50.\n",
      "The score on these train-test partitions for these parameters will be set to nan.\n",
      "If these failures are not expected, you can try to debug them by setting error_score='raise'.\n",
      "\n",
      "Below are more details about the failures:\n",
      "--------------------------------------------------------------------------------\n",
      "10 fits failed with the following error:\n",
      "Traceback (most recent call last):\n",
      "  File \"C:\\Users\\Asus\\.conda\\envs\\tensorflow\\lib\\site-packages\\sklearn\\model_selection\\_validation.py\", line 680, in _fit_and_score\n",
      "    estimator.fit(X_train, y_train, **fit_params)\n",
      "  File \"C:\\Users\\Asus\\.conda\\envs\\tensorflow\\lib\\site-packages\\sklearn\\linear_model\\_logistic.py\", line 1461, in fit\n",
      "    solver = _check_solver(self.solver, self.penalty, self.dual)\n",
      "  File \"C:\\Users\\Asus\\.conda\\envs\\tensorflow\\lib\\site-packages\\sklearn\\linear_model\\_logistic.py\", line 449, in _check_solver\n",
      "    % (solver, penalty)\n",
      "ValueError: Solver newton-cg supports only 'l2' or 'none' penalties, got elasticnet penalty.\n",
      "\n",
      "--------------------------------------------------------------------------------\n",
      "5 fits failed with the following error:\n",
      "Traceback (most recent call last):\n",
      "  File \"C:\\Users\\Asus\\.conda\\envs\\tensorflow\\lib\\site-packages\\sklearn\\model_selection\\_validation.py\", line 680, in _fit_and_score\n",
      "    estimator.fit(X_train, y_train, **fit_params)\n",
      "  File \"C:\\Users\\Asus\\.conda\\envs\\tensorflow\\lib\\site-packages\\sklearn\\linear_model\\_logistic.py\", line 1461, in fit\n",
      "    solver = _check_solver(self.solver, self.penalty, self.dual)\n",
      "  File \"C:\\Users\\Asus\\.conda\\envs\\tensorflow\\lib\\site-packages\\sklearn\\linear_model\\_logistic.py\", line 449, in _check_solver\n",
      "    % (solver, penalty)\n",
      "ValueError: Solver newton-cg supports only 'l2' or 'none' penalties, got l1 penalty.\n",
      "\n",
      "--------------------------------------------------------------------------------\n",
      "5 fits failed with the following error:\n",
      "Traceback (most recent call last):\n",
      "  File \"C:\\Users\\Asus\\.conda\\envs\\tensorflow\\lib\\site-packages\\sklearn\\model_selection\\_validation.py\", line 680, in _fit_and_score\n",
      "    estimator.fit(X_train, y_train, **fit_params)\n",
      "  File \"C:\\Users\\Asus\\.conda\\envs\\tensorflow\\lib\\site-packages\\sklearn\\linear_model\\_logistic.py\", line 1461, in fit\n",
      "    solver = _check_solver(self.solver, self.penalty, self.dual)\n",
      "  File \"C:\\Users\\Asus\\.conda\\envs\\tensorflow\\lib\\site-packages\\sklearn\\linear_model\\_logistic.py\", line 449, in _check_solver\n",
      "    % (solver, penalty)\n",
      "ValueError: Solver lbfgs supports only 'l2' or 'none' penalties, got l1 penalty.\n",
      "\n",
      "  warnings.warn(some_fits_failed_message, FitFailedWarning)\n",
      "C:\\Users\\Asus\\.conda\\envs\\tensorflow\\lib\\site-packages\\sklearn\\model_selection\\_search.py:972: UserWarning: One or more of the test scores are non-finite: [0.87508958        nan 0.87246364 0.79447736        nan 0.87508958\n",
      " 0.864771          nan 0.87378989        nan]\n",
      "  category=UserWarning,\n",
      "C:\\Users\\Asus\\.conda\\envs\\tensorflow\\lib\\site-packages\\sklearn\\linear_model\\_logistic.py:1484: UserWarning: Setting penalty='none' will ignore the C and l1_ratio parameters\n",
      "  \"Setting penalty='none' will ignore the C and l1_ratio parameters\"\n",
      "C:\\Users\\Asus\\.conda\\envs\\tensorflow\\lib\\site-packages\\scipy\\optimize\\linesearch.py:437: LineSearchWarning: Rounding errors prevent the line search from converging\n",
      "  warn(msg, LineSearchWarning)\n",
      "C:\\Users\\Asus\\.conda\\envs\\tensorflow\\lib\\site-packages\\scipy\\optimize\\linesearch.py:327: LineSearchWarning: The line search algorithm did not converge\n",
      "  warn('The line search algorithm did not converge', LineSearchWarning)\n",
      "C:\\Users\\Asus\\.conda\\envs\\tensorflow\\lib\\site-packages\\sklearn\\utils\\optimize.py:203: UserWarning: Line Search failed\n",
      "  warnings.warn(\"Line Search failed\")\n"
     ]
    },
    {
     "data": {
      "text/plain": [
       "RandomizedSearchCV(cv=5, estimator=LogisticRegression(), n_jobs=-1,\n",
       "                   param_distributions=[{'C': array([1.00000000e-04, 2.63665090e-04, 6.95192796e-04, 1.83298071e-03,\n",
       "       4.83293024e-03, 1.27427499e-02, 3.35981829e-02, 8.85866790e-02,\n",
       "       2.33572147e-01, 6.15848211e-01, 1.62377674e+00, 4.28133240e+00,\n",
       "       1.12883789e+01, 2.97635144e+01, 7.84759970e+01, 2.06913808e+02,\n",
       "       5.45559478e+02, 1.43844989e+03, 3.79269019e+03, 1.00000000e+04]),\n",
       "                                         'max_iter': [100, 1000, 2500, 5000],\n",
       "                                         'penalty': ['l1', 'l2', 'elasticnet',\n",
       "                                                     'none'],\n",
       "                                         'solver': ['lbfgs', 'newton-cg',\n",
       "                                                    'liblinear', 'sag',\n",
       "                                                    'saga']}],\n",
       "                   verbose=2)"
      ]
     },
     "execution_count": 94,
     "metadata": {},
     "output_type": "execute_result"
    }
   ],
   "source": [
    "logistic_RandomGrid.fit(X_train, y_train)"
   ]
  },
  {
   "cell_type": "code",
   "execution_count": 95,
   "metadata": {},
   "outputs": [
    {
     "data": {
      "text/plain": [
       "{'solver': 'newton-cg',\n",
       " 'penalty': 'none',\n",
       " 'max_iter': 5000,\n",
       " 'C': 206.913808111479}"
      ]
     },
     "execution_count": 95,
     "metadata": {},
     "output_type": "execute_result"
    }
   ],
   "source": [
    "logistic_RandomGrid.best_params_"
   ]
  },
  {
   "cell_type": "code",
   "execution_count": 96,
   "metadata": {},
   "outputs": [
    {
     "data": {
      "text/plain": [
       "LogisticRegression(C=206.913808111479, max_iter=5000, penalty='none',\n",
       "                   solver='newton-cg')"
      ]
     },
     "execution_count": 96,
     "metadata": {},
     "output_type": "execute_result"
    }
   ],
   "source": [
    "logistic_RandomGrid.best_estimator_"
   ]
  },
  {
   "cell_type": "code",
   "execution_count": 97,
   "metadata": {},
   "outputs": [],
   "source": [
    "lg_classifier=LogisticRegression(C=206.913808111479, max_iter=5000, penalty='none',\n",
    "                      solver='newton-cg')"
   ]
  },
  {
   "cell_type": "code",
   "execution_count": 98,
   "metadata": {},
   "outputs": [
    {
     "name": "stderr",
     "output_type": "stream",
     "text": [
      "C:\\Users\\Asus\\.conda\\envs\\tensorflow\\lib\\site-packages\\sklearn\\linear_model\\_logistic.py:1484: UserWarning: Setting penalty='none' will ignore the C and l1_ratio parameters\n",
      "  \"Setting penalty='none' will ignore the C and l1_ratio parameters\"\n",
      "C:\\Users\\Asus\\.conda\\envs\\tensorflow\\lib\\site-packages\\sklearn\\linear_model\\_logistic.py:1484: UserWarning: Setting penalty='none' will ignore the C and l1_ratio parameters\n",
      "  \"Setting penalty='none' will ignore the C and l1_ratio parameters\"\n",
      "C:\\Users\\Asus\\.conda\\envs\\tensorflow\\lib\\site-packages\\scipy\\optimize\\linesearch.py:437: LineSearchWarning: Rounding errors prevent the line search from converging\n",
      "  warn(msg, LineSearchWarning)\n",
      "C:\\Users\\Asus\\.conda\\envs\\tensorflow\\lib\\site-packages\\scipy\\optimize\\linesearch.py:327: LineSearchWarning: The line search algorithm did not converge\n",
      "  warn('The line search algorithm did not converge', LineSearchWarning)\n",
      "C:\\Users\\Asus\\.conda\\envs\\tensorflow\\lib\\site-packages\\sklearn\\utils\\optimize.py:203: UserWarning: Line Search failed\n",
      "  warnings.warn(\"Line Search failed\")\n",
      "C:\\Users\\Asus\\.conda\\envs\\tensorflow\\lib\\site-packages\\sklearn\\linear_model\\_logistic.py:1484: UserWarning: Setting penalty='none' will ignore the C and l1_ratio parameters\n",
      "  \"Setting penalty='none' will ignore the C and l1_ratio parameters\"\n",
      "C:\\Users\\Asus\\.conda\\envs\\tensorflow\\lib\\site-packages\\scipy\\optimize\\linesearch.py:477: LineSearchWarning: The line search algorithm did not converge\n",
      "  warn('The line search algorithm did not converge', LineSearchWarning)\n",
      "C:\\Users\\Asus\\.conda\\envs\\tensorflow\\lib\\site-packages\\scipy\\optimize\\linesearch.py:327: LineSearchWarning: The line search algorithm did not converge\n",
      "  warn('The line search algorithm did not converge', LineSearchWarning)\n",
      "C:\\Users\\Asus\\.conda\\envs\\tensorflow\\lib\\site-packages\\sklearn\\linear_model\\_logistic.py:1484: UserWarning: Setting penalty='none' will ignore the C and l1_ratio parameters\n",
      "  \"Setting penalty='none' will ignore the C and l1_ratio parameters\"\n",
      "C:\\Users\\Asus\\.conda\\envs\\tensorflow\\lib\\site-packages\\sklearn\\linear_model\\_logistic.py:1484: UserWarning: Setting penalty='none' will ignore the C and l1_ratio parameters\n",
      "  \"Setting penalty='none' will ignore the C and l1_ratio parameters\"\n"
     ]
    }
   ],
   "source": [
    "score=cross_val_score(lg_classifier,X_train, y_train,cv=5)"
   ]
  },
  {
   "cell_type": "code",
   "execution_count": 99,
   "metadata": {},
   "outputs": [
    {
     "data": {
      "text/plain": [
       "0.8750895801601786"
      ]
     },
     "execution_count": 99,
     "metadata": {},
     "output_type": "execute_result"
    }
   ],
   "source": [
    "score.mean()"
   ]
  },
  {
   "cell_type": "code",
   "execution_count": 101,
   "metadata": {},
   "outputs": [
    {
     "name": "stdout",
     "output_type": "stream",
     "text": [
      "Test Accuracy - : 0.875\n"
     ]
    }
   ],
   "source": [
    "\n",
    "print (f'Test Accuracy - : {logistic_RandomGrid.score(X_test,y_test):.3f}')"
   ]
  },
  {
   "cell_type": "code",
   "execution_count": 102,
   "metadata": {},
   "outputs": [
    {
     "name": "stdout",
     "output_type": "stream",
     "text": [
      "ACCURACY OF THE MODEL:  0.8746949602122016\n",
      "ROC OF THE MODEL:  0.9429648253878589\n",
      "\n",
      "              precision    recall  f1-score   support\n",
      "\n",
      "           0       0.85      0.91      0.88      4753\n",
      "           1       0.90      0.84      0.87      4672\n",
      "\n",
      "    accuracy                           0.87      9425\n",
      "   macro avg       0.88      0.87      0.87      9425\n",
      "weighted avg       0.88      0.87      0.87      9425\n",
      "\n"
     ]
    },
    {
     "name": "stderr",
     "output_type": "stream",
     "text": [
      "C:\\Users\\Asus\\.conda\\envs\\tensorflow\\lib\\site-packages\\sklearn\\utils\\deprecation.py:87: FutureWarning: Function plot_confusion_matrix is deprecated; Function `plot_confusion_matrix` is deprecated in 1.0 and will be removed in 1.2. Use one of the class methods: ConfusionMatrixDisplay.from_predictions or ConfusionMatrixDisplay.from_estimator.\n",
      "  warnings.warn(msg, category=FutureWarning)\n"
     ]
    },
    {
     "data": {
      "text/plain": [
       "<sklearn.metrics._plot.confusion_matrix.ConfusionMatrixDisplay at 0x154898d63c8>"
      ]
     },
     "execution_count": 102,
     "metadata": {},
     "output_type": "execute_result"
    },
    {
     "data": {
      "image/png": "[encoded data removed]",
      "text/plain": [
       "<Figure size 432x288 with 2 Axes>"
      ]
     },
     "metadata": {
      "needs_background": "light"
     },
     "output_type": "display_data"
    }
   ],
   "source": [
    "y_pred = logistic_RandomGrid.predict(X_test)\n",
    "\n",
    "print(\"ACCURACY OF THE MODEL: \", metrics.accuracy_score(y_test, y_pred))\n",
    "from sklearn.metrics import roc_auc_score\n",
    "print(\"ROC OF THE MODEL: \",roc_auc_score(y_test, logistic_RandomGrid.predict_proba(X_test)[:, 1]))\n",
    "print()\n",
    "print(classification_report(y_test, y_pred))\n",
    "\n",
    "plot_confusion_matrix(logistic_RandomGrid, X_test, y_test)"
   ]
  },
  {
   "cell_type": "code",
   "execution_count": null,
   "metadata": {},
   "outputs": [],
   "source": []
  },
  {
   "cell_type": "code",
   "execution_count": null,
   "metadata": {},
   "outputs": [],
   "source": []
  },
  {
   "cell_type": "markdown",
   "metadata": {},
   "source": [
    "# handling test data"
   ]
  },
  {
   "cell_type": "code",
   "execution_count": 103,
   "metadata": {},
   "outputs": [
    {
     "data": {
      "text/html": [
       "<div>\n",
       "<style scoped>\n",
       "    .dataframe tbody tr th:only-of-type {\n",
       "        vertical-align: middle;\n",
       "    }\n",
       "\n",
       "    .dataframe tbody tr th {\n",
       "        vertical-align: top;\n",
       "    }\n",
       "\n",
       "    .dataframe thead th {\n",
       "        text-align: right;\n",
       "    }\n",
       "</style>\n",
       "<table border=\"1\" class=\"dataframe\">\n",
       "  <thead>\n",
       "    <tr style=\"text-align: right;\">\n",
       "      <th></th>\n",
       "      <th>id</th>\n",
       "      <th>gender</th>\n",
       "      <th>s11</th>\n",
       "      <th>s12</th>\n",
       "      <th>s13</th>\n",
       "      <th>s16</th>\n",
       "      <th>s17</th>\n",
       "      <th>s18</th>\n",
       "      <th>s48</th>\n",
       "      <th>s52</th>\n",
       "      <th>...</th>\n",
       "      <th>n6</th>\n",
       "      <th>n7</th>\n",
       "      <th>n8</th>\n",
       "      <th>n9</th>\n",
       "      <th>n10</th>\n",
       "      <th>n11</th>\n",
       "      <th>n12</th>\n",
       "      <th>n13</th>\n",
       "      <th>n14</th>\n",
       "      <th>n15</th>\n",
       "    </tr>\n",
       "  </thead>\n",
       "  <tbody>\n",
       "    <tr>\n",
       "      <th>0</th>\n",
       "      <td>b'gAAAAABinOi328DZcweGB4_nOyHA3Dy6o1YKYKyf3COx...</td>\n",
       "      <td>M</td>\n",
       "      <td>Y</td>\n",
       "      <td>Y</td>\n",
       "      <td>1</td>\n",
       "      <td>B</td>\n",
       "      <td>D</td>\n",
       "      <td>D</td>\n",
       "      <td>0</td>\n",
       "      <td>l</td>\n",
       "      <td>...</td>\n",
       "      <td>0.026301</td>\n",
       "      <td>-9.200175</td>\n",
       "      <td>2.122970</td>\n",
       "      <td>6.646617</td>\n",
       "      <td>4.801224</td>\n",
       "      <td>1.693087</td>\n",
       "      <td>0</td>\n",
       "      <td>0</td>\n",
       "      <td>0.439270</td>\n",
       "      <td>2</td>\n",
       "    </tr>\n",
       "    <tr>\n",
       "      <th>1</th>\n",
       "      <td>b'gAAAAABinOikutEIBjkUXl9lYTg4RI6jc4NfiMUCcVsn...</td>\n",
       "      <td>M</td>\n",
       "      <td>Y</td>\n",
       "      <td>Y</td>\n",
       "      <td>1</td>\n",
       "      <td>B</td>\n",
       "      <td>C</td>\n",
       "      <td>B</td>\n",
       "      <td>1</td>\n",
       "      <td>l</td>\n",
       "      <td>...</td>\n",
       "      <td>0.010774</td>\n",
       "      <td>-8.897092</td>\n",
       "      <td>1.770889</td>\n",
       "      <td>11.046294</td>\n",
       "      <td>6.407230</td>\n",
       "      <td>1.516728</td>\n",
       "      <td>0</td>\n",
       "      <td>0</td>\n",
       "      <td>0.084334</td>\n",
       "      <td>4</td>\n",
       "    </tr>\n",
       "    <tr>\n",
       "      <th>2</th>\n",
       "      <td>b'gAAAAABinOjBM70jBXOroAlUSq5lNXMd_oP0PU7jLQE5...</td>\n",
       "      <td>M</td>\n",
       "      <td>Y</td>\n",
       "      <td>N</td>\n",
       "      <td>1</td>\n",
       "      <td>B</td>\n",
       "      <td>D</td>\n",
       "      <td>B</td>\n",
       "      <td>1</td>\n",
       "      <td>l</td>\n",
       "      <td>...</td>\n",
       "      <td>0.016837</td>\n",
       "      <td>-9.173660</td>\n",
       "      <td>1.871872</td>\n",
       "      <td>2.805834</td>\n",
       "      <td>5.481219</td>\n",
       "      <td>1.788823</td>\n",
       "      <td>0</td>\n",
       "      <td>0</td>\n",
       "      <td>0.984210</td>\n",
       "      <td>0</td>\n",
       "    </tr>\n",
       "    <tr>\n",
       "      <th>3</th>\n",
       "      <td>b'gAAAAABinOimitAnqlgOcqnD_LeNL3WEbXNGvjd3QVPi...</td>\n",
       "      <td>M</td>\n",
       "      <td>Y</td>\n",
       "      <td>Y</td>\n",
       "      <td>1</td>\n",
       "      <td>D</td>\n",
       "      <td>D</td>\n",
       "      <td>B</td>\n",
       "      <td>0</td>\n",
       "      <td>1</td>\n",
       "      <td>...</td>\n",
       "      <td>0.015684</td>\n",
       "      <td>-9.178200</td>\n",
       "      <td>1.675028</td>\n",
       "      <td>6.354938</td>\n",
       "      <td>5.427266</td>\n",
       "      <td>1.792147</td>\n",
       "      <td>0</td>\n",
       "      <td>0</td>\n",
       "      <td>0.003492</td>\n",
       "      <td>1</td>\n",
       "    </tr>\n",
       "    <tr>\n",
       "      <th>4</th>\n",
       "      <td>b'gAAAAABinOi3W9p3Oka5MV_dc2TeorZUcIWOnnODSx7E...</td>\n",
       "      <td>M</td>\n",
       "      <td>Y</td>\n",
       "      <td>Y</td>\n",
       "      <td>1</td>\n",
       "      <td>D</td>\n",
       "      <td>C</td>\n",
       "      <td>B</td>\n",
       "      <td>1</td>\n",
       "      <td>1</td>\n",
       "      <td>...</td>\n",
       "      <td>0.006406</td>\n",
       "      <td>-8.726633</td>\n",
       "      <td>1.963535</td>\n",
       "      <td>6.810158</td>\n",
       "      <td>11.487845</td>\n",
       "      <td>1.880992</td>\n",
       "      <td>0</td>\n",
       "      <td>0</td>\n",
       "      <td>0.060614</td>\n",
       "      <td>0</td>\n",
       "    </tr>\n",
       "  </tbody>\n",
       "</table>\n",
       "<p>5 rows × 35 columns</p>\n",
       "</div>"
      ],
      "text/plain": [
       "                                                  id gender s11 s12  s13 s16  \\\n",
       "0  b'gAAAAABinOi328DZcweGB4_nOyHA3Dy6o1YKYKyf3COx...      M   Y   Y    1   B   \n",
       "1  b'gAAAAABinOikutEIBjkUXl9lYTg4RI6jc4NfiMUCcVsn...      M   Y   Y    1   B   \n",
       "2  b'gAAAAABinOjBM70jBXOroAlUSq5lNXMd_oP0PU7jLQE5...      M   Y   N    1   B   \n",
       "3  b'gAAAAABinOimitAnqlgOcqnD_LeNL3WEbXNGvjd3QVPi...      M   Y   Y    1   D   \n",
       "4  b'gAAAAABinOi3W9p3Oka5MV_dc2TeorZUcIWOnnODSx7E...      M   Y   Y    1   D   \n",
       "\n",
       "  s17 s18  s48 s52  ...        n6        n7        n8         n9        n10  \\\n",
       "0   D   D    0   l  ...  0.026301 -9.200175  2.122970   6.646617   4.801224   \n",
       "1   C   B    1   l  ...  0.010774 -8.897092  1.770889  11.046294   6.407230   \n",
       "2   D   B    1   l  ...  0.016837 -9.173660  1.871872   2.805834   5.481219   \n",
       "3   D   B    0   1  ...  0.015684 -9.178200  1.675028   6.354938   5.427266   \n",
       "4   C   B    1   1  ...  0.006406 -8.726633  1.963535   6.810158  11.487845   \n",
       "\n",
       "        n11  n12 n13       n14 n15  \n",
       "0  1.693087    0   0  0.439270   2  \n",
       "1  1.516728    0   0  0.084334   4  \n",
       "2  1.788823    0   0  0.984210   0  \n",
       "3  1.792147    0   0  0.003492   1  \n",
       "4  1.880992    0   0  0.060614   0  \n",
       "\n",
       "[5 rows x 35 columns]"
      ]
     },
     "execution_count": 103,
     "metadata": {},
     "output_type": "execute_result"
    }
   ],
   "source": [
    "test=pd.read_csv(r\"D:\\Robi Datathon\\test.csv\")\n",
    "test.head()"
   ]
  },
  {
   "cell_type": "code",
   "execution_count": 104,
   "metadata": {},
   "outputs": [
    {
     "data": {
      "text/plain": [
       "<AxesSubplot:>"
      ]
     },
     "execution_count": 104,
     "metadata": {},
     "output_type": "execute_result"
    },
    {
     "data": {
      "image/png": "[encoded data removed]",
      "text/plain": [
       "<Figure size 432x288 with 1 Axes>"
      ]
     },
     "metadata": {
      "needs_background": "light"
     },
     "output_type": "display_data"
    }
   ],
   "source": [
    "sns.heatmap(test.isnull(),yticklabels=False,cbar=False)"
   ]
  },
  {
   "cell_type": "code",
   "execution_count": 105,
   "metadata": {},
   "outputs": [],
   "source": [
    "def drop_null_test(*xs):\n",
    "    for x in xs: \n",
    "        if x in test.columns:\n",
    "            print(\"No of null value in\" ,x,':', sum(test[x].isnull()))\n",
    "            test.drop([x],axis=1,inplace=True)\n",
    "    "
   ]
  },
  {
   "cell_type": "code",
   "execution_count": 106,
   "metadata": {},
   "outputs": [
    {
     "name": "stdout",
     "output_type": "stream",
     "text": [
      "No of null value in s54 : 77322\n",
      "No of null value in s53 : 0\n",
      "No of null value in s55 : 75644\n",
      "No of null value in s56 : 85065\n",
      "No of null value in s57 : 85065\n",
      "No of null value in s59 : 85065\n"
     ]
    }
   ],
   "source": [
    "drop_null_test('s54','s53','s55','s56','s57','s59')"
   ]
  },
  {
   "cell_type": "code",
   "execution_count": 107,
   "metadata": {},
   "outputs": [
    {
     "data": {
      "text/plain": [
       "id        0\n",
       "gender    0\n",
       "s11       0\n",
       "s12       0\n",
       "s13       0\n",
       "s16       0\n",
       "s17       0\n",
       "s18       0\n",
       "s48       0\n",
       "s52       0\n",
       "s58       0\n",
       "s69       0\n",
       "s70       0\n",
       "s71       0\n",
       "n1        0\n",
       "n2        0\n",
       "n3        0\n",
       "n4        0\n",
       "n5        0\n",
       "n6        0\n",
       "n7        0\n",
       "n8        0\n",
       "n9        0\n",
       "n10       0\n",
       "n11       0\n",
       "n12       0\n",
       "n13       0\n",
       "n14       0\n",
       "n15       0\n",
       "dtype: int64"
      ]
     },
     "execution_count": 107,
     "metadata": {},
     "output_type": "execute_result"
    }
   ],
   "source": [
    "test.isnull().sum() "
   ]
  },
  {
   "cell_type": "code",
   "execution_count": 108,
   "metadata": {},
   "outputs": [],
   "source": [
    "################     Hnadling Categorical value in test data"
   ]
  },
  {
   "cell_type": "code",
   "execution_count": 109,
   "metadata": {},
   "outputs": [],
   "source": [
    "def one_hot_encoding_test(*columns):\n",
    "    global test\n",
    "    for x in columns: \n",
    "        if x in test.columns:\n",
    "            one_hot= pd.get_dummies(test[x], prefix=x)\n",
    "            test=test.join(one_hot)\n",
    "            test.drop([x], axis=1,inplace=True)"
   ]
  },
  {
   "cell_type": "code",
   "execution_count": 110,
   "metadata": {},
   "outputs": [],
   "source": [
    "one_hot_encoding_test('gender','s11','s12','s16','s17','s18','s52','s58','s69','s70','s71')"
   ]
  },
  {
   "cell_type": "code",
   "execution_count": 111,
   "metadata": {},
   "outputs": [],
   "source": [
    "test_new=test.copy() "
   ]
  },
  {
   "cell_type": "code",
   "execution_count": 115,
   "metadata": {},
   "outputs": [],
   "source": [
    "test_features=test_new.drop(['id'],axis=1)"
   ]
  },
  {
   "cell_type": "code",
   "execution_count": 116,
   "metadata": {},
   "outputs": [
    {
     "data": {
      "text/html": [
       "<div>\n",
       "<style scoped>\n",
       "    .dataframe tbody tr th:only-of-type {\n",
       "        vertical-align: middle;\n",
       "    }\n",
       "\n",
       "    .dataframe tbody tr th {\n",
       "        vertical-align: top;\n",
       "    }\n",
       "\n",
       "    .dataframe thead th {\n",
       "        text-align: right;\n",
       "    }\n",
       "</style>\n",
       "<table border=\"1\" class=\"dataframe\">\n",
       "  <thead>\n",
       "    <tr style=\"text-align: right;\">\n",
       "      <th></th>\n",
       "      <th>s13</th>\n",
       "      <th>s48</th>\n",
       "      <th>n1</th>\n",
       "      <th>n2</th>\n",
       "      <th>n3</th>\n",
       "      <th>n4</th>\n",
       "      <th>n5</th>\n",
       "      <th>n6</th>\n",
       "      <th>n7</th>\n",
       "      <th>n8</th>\n",
       "      <th>...</th>\n",
       "      <th>s69_x</th>\n",
       "      <th>s69_~1</th>\n",
       "      <th>s70_op: A</th>\n",
       "      <th>s70_op: B</th>\n",
       "      <th>s70_op: C</th>\n",
       "      <th>s70_op: D</th>\n",
       "      <th>s71_a</th>\n",
       "      <th>s71_b</th>\n",
       "      <th>s71_c</th>\n",
       "      <th>s71_d</th>\n",
       "    </tr>\n",
       "  </thead>\n",
       "  <tbody>\n",
       "    <tr>\n",
       "      <th>0</th>\n",
       "      <td>1</td>\n",
       "      <td>0</td>\n",
       "      <td>17.362752</td>\n",
       "      <td>2.985283</td>\n",
       "      <td>3</td>\n",
       "      <td>2.052415</td>\n",
       "      <td>-32.339904</td>\n",
       "      <td>0.026301</td>\n",
       "      <td>-9.200175</td>\n",
       "      <td>2.122970</td>\n",
       "      <td>...</td>\n",
       "      <td>0</td>\n",
       "      <td>1</td>\n",
       "      <td>0</td>\n",
       "      <td>0</td>\n",
       "      <td>0</td>\n",
       "      <td>1</td>\n",
       "      <td>0</td>\n",
       "      <td>0</td>\n",
       "      <td>0</td>\n",
       "      <td>1</td>\n",
       "    </tr>\n",
       "    <tr>\n",
       "      <th>1</th>\n",
       "      <td>1</td>\n",
       "      <td>1</td>\n",
       "      <td>15.892228</td>\n",
       "      <td>2.389056</td>\n",
       "      <td>7</td>\n",
       "      <td>6.928142</td>\n",
       "      <td>-32.356092</td>\n",
       "      <td>0.010774</td>\n",
       "      <td>-8.897092</td>\n",
       "      <td>1.770889</td>\n",
       "      <td>...</td>\n",
       "      <td>0</td>\n",
       "      <td>1</td>\n",
       "      <td>0</td>\n",
       "      <td>0</td>\n",
       "      <td>1</td>\n",
       "      <td>0</td>\n",
       "      <td>0</td>\n",
       "      <td>1</td>\n",
       "      <td>0</td>\n",
       "      <td>0</td>\n",
       "    </tr>\n",
       "    <tr>\n",
       "      <th>2</th>\n",
       "      <td>1</td>\n",
       "      <td>1</td>\n",
       "      <td>10.893303</td>\n",
       "      <td>1.470903</td>\n",
       "      <td>6</td>\n",
       "      <td>2.210629</td>\n",
       "      <td>-32.397871</td>\n",
       "      <td>0.016837</td>\n",
       "      <td>-9.173660</td>\n",
       "      <td>1.871872</td>\n",
       "      <td>...</td>\n",
       "      <td>0</td>\n",
       "      <td>1</td>\n",
       "      <td>0</td>\n",
       "      <td>0</td>\n",
       "      <td>0</td>\n",
       "      <td>1</td>\n",
       "      <td>0</td>\n",
       "      <td>1</td>\n",
       "      <td>0</td>\n",
       "      <td>0</td>\n",
       "    </tr>\n",
       "    <tr>\n",
       "      <th>3</th>\n",
       "      <td>1</td>\n",
       "      <td>0</td>\n",
       "      <td>9.876850</td>\n",
       "      <td>1.442493</td>\n",
       "      <td>3</td>\n",
       "      <td>2.350379</td>\n",
       "      <td>-32.836003</td>\n",
       "      <td>0.015684</td>\n",
       "      <td>-9.178200</td>\n",
       "      <td>1.675028</td>\n",
       "      <td>...</td>\n",
       "      <td>1</td>\n",
       "      <td>0</td>\n",
       "      <td>0</td>\n",
       "      <td>0</td>\n",
       "      <td>0</td>\n",
       "      <td>1</td>\n",
       "      <td>0</td>\n",
       "      <td>1</td>\n",
       "      <td>0</td>\n",
       "      <td>0</td>\n",
       "    </tr>\n",
       "    <tr>\n",
       "      <th>4</th>\n",
       "      <td>1</td>\n",
       "      <td>1</td>\n",
       "      <td>11.674406</td>\n",
       "      <td>2.544719</td>\n",
       "      <td>8</td>\n",
       "      <td>8.136887</td>\n",
       "      <td>-32.577495</td>\n",
       "      <td>0.006406</td>\n",
       "      <td>-8.726633</td>\n",
       "      <td>1.963535</td>\n",
       "      <td>...</td>\n",
       "      <td>1</td>\n",
       "      <td>0</td>\n",
       "      <td>0</td>\n",
       "      <td>0</td>\n",
       "      <td>1</td>\n",
       "      <td>0</td>\n",
       "      <td>0</td>\n",
       "      <td>1</td>\n",
       "      <td>0</td>\n",
       "      <td>0</td>\n",
       "    </tr>\n",
       "    <tr>\n",
       "      <th>...</th>\n",
       "      <td>...</td>\n",
       "      <td>...</td>\n",
       "      <td>...</td>\n",
       "      <td>...</td>\n",
       "      <td>...</td>\n",
       "      <td>...</td>\n",
       "      <td>...</td>\n",
       "      <td>...</td>\n",
       "      <td>...</td>\n",
       "      <td>...</td>\n",
       "      <td>...</td>\n",
       "      <td>...</td>\n",
       "      <td>...</td>\n",
       "      <td>...</td>\n",
       "      <td>...</td>\n",
       "      <td>...</td>\n",
       "      <td>...</td>\n",
       "      <td>...</td>\n",
       "      <td>...</td>\n",
       "      <td>...</td>\n",
       "      <td>...</td>\n",
       "    </tr>\n",
       "    <tr>\n",
       "      <th>85060</th>\n",
       "      <td>1</td>\n",
       "      <td>1</td>\n",
       "      <td>10.547381</td>\n",
       "      <td>1.452660</td>\n",
       "      <td>7</td>\n",
       "      <td>8.000085</td>\n",
       "      <td>-32.578221</td>\n",
       "      <td>0.011017</td>\n",
       "      <td>-8.994304</td>\n",
       "      <td>1.581816</td>\n",
       "      <td>...</td>\n",
       "      <td>0</td>\n",
       "      <td>0</td>\n",
       "      <td>0</td>\n",
       "      <td>0</td>\n",
       "      <td>1</td>\n",
       "      <td>0</td>\n",
       "      <td>0</td>\n",
       "      <td>0</td>\n",
       "      <td>1</td>\n",
       "      <td>0</td>\n",
       "    </tr>\n",
       "    <tr>\n",
       "      <th>85061</th>\n",
       "      <td>1</td>\n",
       "      <td>1</td>\n",
       "      <td>10.149117</td>\n",
       "      <td>2.168239</td>\n",
       "      <td>6</td>\n",
       "      <td>6.011115</td>\n",
       "      <td>-32.447282</td>\n",
       "      <td>0.019550</td>\n",
       "      <td>-9.131275</td>\n",
       "      <td>1.526110</td>\n",
       "      <td>...</td>\n",
       "      <td>0</td>\n",
       "      <td>1</td>\n",
       "      <td>0</td>\n",
       "      <td>0</td>\n",
       "      <td>1</td>\n",
       "      <td>0</td>\n",
       "      <td>0</td>\n",
       "      <td>0</td>\n",
       "      <td>1</td>\n",
       "      <td>0</td>\n",
       "    </tr>\n",
       "    <tr>\n",
       "      <th>85062</th>\n",
       "      <td>1</td>\n",
       "      <td>1</td>\n",
       "      <td>3.744380</td>\n",
       "      <td>0.661328</td>\n",
       "      <td>2</td>\n",
       "      <td>2.112016</td>\n",
       "      <td>-32.351165</td>\n",
       "      <td>0.015461</td>\n",
       "      <td>-9.249529</td>\n",
       "      <td>1.505547</td>\n",
       "      <td>...</td>\n",
       "      <td>1</td>\n",
       "      <td>0</td>\n",
       "      <td>1</td>\n",
       "      <td>0</td>\n",
       "      <td>0</td>\n",
       "      <td>0</td>\n",
       "      <td>0</td>\n",
       "      <td>0</td>\n",
       "      <td>1</td>\n",
       "      <td>0</td>\n",
       "    </tr>\n",
       "    <tr>\n",
       "      <th>85063</th>\n",
       "      <td>1</td>\n",
       "      <td>1</td>\n",
       "      <td>10.194615</td>\n",
       "      <td>1.557863</td>\n",
       "      <td>2</td>\n",
       "      <td>2.433086</td>\n",
       "      <td>-32.363871</td>\n",
       "      <td>0.010612</td>\n",
       "      <td>-9.229158</td>\n",
       "      <td>1.833286</td>\n",
       "      <td>...</td>\n",
       "      <td>0</td>\n",
       "      <td>1</td>\n",
       "      <td>0</td>\n",
       "      <td>0</td>\n",
       "      <td>0</td>\n",
       "      <td>1</td>\n",
       "      <td>0</td>\n",
       "      <td>0</td>\n",
       "      <td>0</td>\n",
       "      <td>1</td>\n",
       "    </tr>\n",
       "    <tr>\n",
       "      <th>85064</th>\n",
       "      <td>1</td>\n",
       "      <td>0</td>\n",
       "      <td>10.109654</td>\n",
       "      <td>1.517923</td>\n",
       "      <td>0</td>\n",
       "      <td>6.809017</td>\n",
       "      <td>-32.644558</td>\n",
       "      <td>0.029553</td>\n",
       "      <td>-9.225671</td>\n",
       "      <td>1.837338</td>\n",
       "      <td>...</td>\n",
       "      <td>1</td>\n",
       "      <td>0</td>\n",
       "      <td>0</td>\n",
       "      <td>0</td>\n",
       "      <td>0</td>\n",
       "      <td>1</td>\n",
       "      <td>0</td>\n",
       "      <td>1</td>\n",
       "      <td>0</td>\n",
       "      <td>0</td>\n",
       "    </tr>\n",
       "  </tbody>\n",
       "</table>\n",
       "<p>85065 rows × 53 columns</p>\n",
       "</div>"
      ],
      "text/plain": [
       "       s13  s48         n1        n2  n3        n4         n5        n6  \\\n",
       "0        1    0  17.362752  2.985283   3  2.052415 -32.339904  0.026301   \n",
       "1        1    1  15.892228  2.389056   7  6.928142 -32.356092  0.010774   \n",
       "2        1    1  10.893303  1.470903   6  2.210629 -32.397871  0.016837   \n",
       "3        1    0   9.876850  1.442493   3  2.350379 -32.836003  0.015684   \n",
       "4        1    1  11.674406  2.544719   8  8.136887 -32.577495  0.006406   \n",
       "...    ...  ...        ...       ...  ..       ...        ...       ...   \n",
       "85060    1    1  10.547381  1.452660   7  8.000085 -32.578221  0.011017   \n",
       "85061    1    1  10.149117  2.168239   6  6.011115 -32.447282  0.019550   \n",
       "85062    1    1   3.744380  0.661328   2  2.112016 -32.351165  0.015461   \n",
       "85063    1    1  10.194615  1.557863   2  2.433086 -32.363871  0.010612   \n",
       "85064    1    0  10.109654  1.517923   0  6.809017 -32.644558  0.029553   \n",
       "\n",
       "             n7        n8  ...  s69_x  s69_~1  s70_op: A  s70_op: B  \\\n",
       "0     -9.200175  2.122970  ...      0       1          0          0   \n",
       "1     -8.897092  1.770889  ...      0       1          0          0   \n",
       "2     -9.173660  1.871872  ...      0       1          0          0   \n",
       "3     -9.178200  1.675028  ...      1       0          0          0   \n",
       "4     -8.726633  1.963535  ...      1       0          0          0   \n",
       "...         ...       ...  ...    ...     ...        ...        ...   \n",
       "85060 -8.994304  1.581816  ...      0       0          0          0   \n",
       "85061 -9.131275  1.526110  ...      0       1          0          0   \n",
       "85062 -9.249529  1.505547  ...      1       0          1          0   \n",
       "85063 -9.229158  1.833286  ...      0       1          0          0   \n",
       "85064 -9.225671  1.837338  ...      1       0          0          0   \n",
       "\n",
       "       s70_op: C  s70_op: D  s71_a  s71_b  s71_c  s71_d  \n",
       "0              0          1      0      0      0      1  \n",
       "1              1          0      0      1      0      0  \n",
       "2              0          1      0      1      0      0  \n",
       "3              0          1      0      1      0      0  \n",
       "4              1          0      0      1      0      0  \n",
       "...          ...        ...    ...    ...    ...    ...  \n",
       "85060          1          0      0      0      1      0  \n",
       "85061          1          0      0      0      1      0  \n",
       "85062          0          0      0      0      1      0  \n",
       "85063          0          1      0      0      0      1  \n",
       "85064          0          1      0      1      0      0  \n",
       "\n",
       "[85065 rows x 53 columns]"
      ]
     },
     "execution_count": 116,
     "metadata": {},
     "output_type": "execute_result"
    }
   ],
   "source": [
    "test_features"
   ]
  },
  {
   "cell_type": "code",
   "execution_count": 120,
   "metadata": {},
   "outputs": [],
   "source": [
    "y_pred_xg= random_search.predict(test_features)"
   ]
  },
  {
   "cell_type": "code",
   "execution_count": 123,
   "metadata": {},
   "outputs": [],
   "source": [
    "y_pred_rf=rf_RandomGrid.predict(test_features)"
   ]
  },
  {
   "cell_type": "code",
   "execution_count": 119,
   "metadata": {},
   "outputs": [],
   "source": [
    "y_pred_lg=logistic_RandomGrid.predict(test_features)"
   ]
  },
  {
   "cell_type": "code",
   "execution_count": 121,
   "metadata": {},
   "outputs": [
    {
     "data": {
      "text/plain": [
       "array([1, 1, 1, ..., 0, 1, 0])"
      ]
     },
     "execution_count": 121,
     "metadata": {},
     "output_type": "execute_result"
    }
   ],
   "source": [
    "y_pred_xg"
   ]
  },
  {
   "cell_type": "code",
   "execution_count": 124,
   "metadata": {},
   "outputs": [
    {
     "data": {
      "text/plain": [
       "array([1, 0, 1, ..., 0, 1, 0], dtype=int64)"
      ]
     },
     "execution_count": 124,
     "metadata": {},
     "output_type": "execute_result"
    }
   ],
   "source": [
    "y_pred_rf"
   ]
  },
  {
   "cell_type": "code",
   "execution_count": 125,
   "metadata": {},
   "outputs": [
    {
     "data": {
      "text/plain": [
       "array([1, 1, 1, ..., 0, 1, 0], dtype=int64)"
      ]
     },
     "execution_count": 125,
     "metadata": {},
     "output_type": "execute_result"
    }
   ],
   "source": [
    "y_pred_lg"
   ]
  },
  {
   "cell_type": "code",
   "execution_count": 126,
   "metadata": {},
   "outputs": [],
   "source": [
    "test['label_xg']=y_pred_xg"
   ]
  },
  {
   "cell_type": "code",
   "execution_count": 127,
   "metadata": {},
   "outputs": [],
   "source": [
    "test['label_rf']=y_pred_rf"
   ]
  },
  {
   "cell_type": "code",
   "execution_count": 128,
   "metadata": {},
   "outputs": [],
   "source": [
    "test['label_lg']=y_pred_lg"
   ]
  },
  {
   "cell_type": "code",
   "execution_count": 131,
   "metadata": {},
   "outputs": [],
   "source": [
    "test['check']=test['label_xg']+test['label_rf']+test['label_lg']"
   ]
  },
  {
   "cell_type": "code",
   "execution_count": 133,
   "metadata": {},
   "outputs": [],
   "source": [
    "test['label']=test['check'].apply(lambda x: 0 if x <2 else 1)"
   ]
  },
  {
   "cell_type": "code",
   "execution_count": 134,
   "metadata": {},
   "outputs": [
    {
     "data": {
      "text/html": [
       "<div>\n",
       "<style scoped>\n",
       "    .dataframe tbody tr th:only-of-type {\n",
       "        vertical-align: middle;\n",
       "    }\n",
       "\n",
       "    .dataframe tbody tr th {\n",
       "        vertical-align: top;\n",
       "    }\n",
       "\n",
       "    .dataframe thead th {\n",
       "        text-align: right;\n",
       "    }\n",
       "</style>\n",
       "<table border=\"1\" class=\"dataframe\">\n",
       "  <thead>\n",
       "    <tr style=\"text-align: right;\">\n",
       "      <th></th>\n",
       "      <th>id</th>\n",
       "      <th>label_xg</th>\n",
       "      <th>label_rf</th>\n",
       "      <th>label_lg</th>\n",
       "      <th>check</th>\n",
       "      <th>label</th>\n",
       "    </tr>\n",
       "  </thead>\n",
       "  <tbody>\n",
       "    <tr>\n",
       "      <th>0</th>\n",
       "      <td>b'gAAAAABinOi328DZcweGB4_nOyHA3Dy6o1YKYKyf3COx...</td>\n",
       "      <td>1</td>\n",
       "      <td>1</td>\n",
       "      <td>1</td>\n",
       "      <td>3</td>\n",
       "      <td>1</td>\n",
       "    </tr>\n",
       "    <tr>\n",
       "      <th>1</th>\n",
       "      <td>b'gAAAAABinOikutEIBjkUXl9lYTg4RI6jc4NfiMUCcVsn...</td>\n",
       "      <td>1</td>\n",
       "      <td>0</td>\n",
       "      <td>1</td>\n",
       "      <td>2</td>\n",
       "      <td>1</td>\n",
       "    </tr>\n",
       "    <tr>\n",
       "      <th>2</th>\n",
       "      <td>b'gAAAAABinOjBM70jBXOroAlUSq5lNXMd_oP0PU7jLQE5...</td>\n",
       "      <td>1</td>\n",
       "      <td>1</td>\n",
       "      <td>1</td>\n",
       "      <td>3</td>\n",
       "      <td>1</td>\n",
       "    </tr>\n",
       "    <tr>\n",
       "      <th>3</th>\n",
       "      <td>b'gAAAAABinOimitAnqlgOcqnD_LeNL3WEbXNGvjd3QVPi...</td>\n",
       "      <td>0</td>\n",
       "      <td>0</td>\n",
       "      <td>0</td>\n",
       "      <td>0</td>\n",
       "      <td>0</td>\n",
       "    </tr>\n",
       "    <tr>\n",
       "      <th>4</th>\n",
       "      <td>b'gAAAAABinOi3W9p3Oka5MV_dc2TeorZUcIWOnnODSx7E...</td>\n",
       "      <td>0</td>\n",
       "      <td>0</td>\n",
       "      <td>0</td>\n",
       "      <td>0</td>\n",
       "      <td>0</td>\n",
       "    </tr>\n",
       "    <tr>\n",
       "      <th>...</th>\n",
       "      <td>...</td>\n",
       "      <td>...</td>\n",
       "      <td>...</td>\n",
       "      <td>...</td>\n",
       "      <td>...</td>\n",
       "      <td>...</td>\n",
       "    </tr>\n",
       "    <tr>\n",
       "      <th>85060</th>\n",
       "      <td>b'gAAAAABinOjbnJVk2-nOVQsYB9p4DK26fTLLik_UR2H0...</td>\n",
       "      <td>0</td>\n",
       "      <td>1</td>\n",
       "      <td>0</td>\n",
       "      <td>1</td>\n",
       "      <td>0</td>\n",
       "    </tr>\n",
       "    <tr>\n",
       "      <th>85061</th>\n",
       "      <td>b'gAAAAABinOi7ixyXrlKYlx8D9i0-TIPD5elP2k-vuekn...</td>\n",
       "      <td>1</td>\n",
       "      <td>1</td>\n",
       "      <td>1</td>\n",
       "      <td>3</td>\n",
       "      <td>1</td>\n",
       "    </tr>\n",
       "    <tr>\n",
       "      <th>85062</th>\n",
       "      <td>b'gAAAAABinOi31zWSlD0OMhbBd3_weh7Kq6aPeO4yYqns...</td>\n",
       "      <td>0</td>\n",
       "      <td>0</td>\n",
       "      <td>0</td>\n",
       "      <td>0</td>\n",
       "      <td>0</td>\n",
       "    </tr>\n",
       "    <tr>\n",
       "      <th>85063</th>\n",
       "      <td>b'gAAAAABinOjIe7jFVk9k7jiH8Y3rdpUHDTZG2T2isunp...</td>\n",
       "      <td>1</td>\n",
       "      <td>1</td>\n",
       "      <td>1</td>\n",
       "      <td>3</td>\n",
       "      <td>1</td>\n",
       "    </tr>\n",
       "    <tr>\n",
       "      <th>85064</th>\n",
       "      <td>b'gAAAAABinOiiLo4KNZVgClHgtOFRzEU9O97My6MowJFa...</td>\n",
       "      <td>0</td>\n",
       "      <td>0</td>\n",
       "      <td>0</td>\n",
       "      <td>0</td>\n",
       "      <td>0</td>\n",
       "    </tr>\n",
       "  </tbody>\n",
       "</table>\n",
       "<p>85065 rows × 6 columns</p>\n",
       "</div>"
      ],
      "text/plain": [
       "                                                      id  label_xg  label_rf  \\\n",
       "0      b'gAAAAABinOi328DZcweGB4_nOyHA3Dy6o1YKYKyf3COx...         1         1   \n",
       "1      b'gAAAAABinOikutEIBjkUXl9lYTg4RI6jc4NfiMUCcVsn...         1         0   \n",
       "2      b'gAAAAABinOjBM70jBXOroAlUSq5lNXMd_oP0PU7jLQE5...         1         1   \n",
       "3      b'gAAAAABinOimitAnqlgOcqnD_LeNL3WEbXNGvjd3QVPi...         0         0   \n",
       "4      b'gAAAAABinOi3W9p3Oka5MV_dc2TeorZUcIWOnnODSx7E...         0         0   \n",
       "...                                                  ...       ...       ...   \n",
       "85060  b'gAAAAABinOjbnJVk2-nOVQsYB9p4DK26fTLLik_UR2H0...         0         1   \n",
       "85061  b'gAAAAABinOi7ixyXrlKYlx8D9i0-TIPD5elP2k-vuekn...         1         1   \n",
       "85062  b'gAAAAABinOi31zWSlD0OMhbBd3_weh7Kq6aPeO4yYqns...         0         0   \n",
       "85063  b'gAAAAABinOjIe7jFVk9k7jiH8Y3rdpUHDTZG2T2isunp...         1         1   \n",
       "85064  b'gAAAAABinOiiLo4KNZVgClHgtOFRzEU9O97My6MowJFa...         0         0   \n",
       "\n",
       "       label_lg  check  label  \n",
       "0             1      3      1  \n",
       "1             1      2      1  \n",
       "2             1      3      1  \n",
       "3             0      0      0  \n",
       "4             0      0      0  \n",
       "...         ...    ...    ...  \n",
       "85060         0      1      0  \n",
       "85061         1      3      1  \n",
       "85062         0      0      0  \n",
       "85063         1      3      1  \n",
       "85064         0      0      0  \n",
       "\n",
       "[85065 rows x 6 columns]"
      ]
     },
     "execution_count": 134,
     "metadata": {},
     "output_type": "execute_result"
    }
   ],
   "source": [
    "submission=(test[['id','label_xg','label_rf','label_lg','check','label']])\n",
    "submission"
   ]
  },
  {
   "cell_type": "code",
   "execution_count": 153,
   "metadata": {},
   "outputs": [],
   "source": [
    "test.drop(['label'],axis=1,inplace=True)"
   ]
  },
  {
   "cell_type": "code",
   "execution_count": 139,
   "metadata": {},
   "outputs": [
    {
     "data": {
      "text/html": [
       "<div>\n",
       "<style scoped>\n",
       "    .dataframe tbody tr th:only-of-type {\n",
       "        vertical-align: middle;\n",
       "    }\n",
       "\n",
       "    .dataframe tbody tr th {\n",
       "        vertical-align: top;\n",
       "    }\n",
       "\n",
       "    .dataframe thead th {\n",
       "        text-align: right;\n",
       "    }\n",
       "</style>\n",
       "<table border=\"1\" class=\"dataframe\">\n",
       "  <thead>\n",
       "    <tr style=\"text-align: right;\">\n",
       "      <th></th>\n",
       "      <th>id</th>\n",
       "      <th>label_rf</th>\n",
       "    </tr>\n",
       "  </thead>\n",
       "  <tbody>\n",
       "    <tr>\n",
       "      <th>0</th>\n",
       "      <td>b'gAAAAABinOi328DZcweGB4_nOyHA3Dy6o1YKYKyf3COx...</td>\n",
       "      <td>1</td>\n",
       "    </tr>\n",
       "    <tr>\n",
       "      <th>1</th>\n",
       "      <td>b'gAAAAABinOikutEIBjkUXl9lYTg4RI6jc4NfiMUCcVsn...</td>\n",
       "      <td>0</td>\n",
       "    </tr>\n",
       "    <tr>\n",
       "      <th>2</th>\n",
       "      <td>b'gAAAAABinOjBM70jBXOroAlUSq5lNXMd_oP0PU7jLQE5...</td>\n",
       "      <td>1</td>\n",
       "    </tr>\n",
       "    <tr>\n",
       "      <th>3</th>\n",
       "      <td>b'gAAAAABinOimitAnqlgOcqnD_LeNL3WEbXNGvjd3QVPi...</td>\n",
       "      <td>0</td>\n",
       "    </tr>\n",
       "    <tr>\n",
       "      <th>4</th>\n",
       "      <td>b'gAAAAABinOi3W9p3Oka5MV_dc2TeorZUcIWOnnODSx7E...</td>\n",
       "      <td>0</td>\n",
       "    </tr>\n",
       "    <tr>\n",
       "      <th>...</th>\n",
       "      <td>...</td>\n",
       "      <td>...</td>\n",
       "    </tr>\n",
       "    <tr>\n",
       "      <th>85060</th>\n",
       "      <td>b'gAAAAABinOjbnJVk2-nOVQsYB9p4DK26fTLLik_UR2H0...</td>\n",
       "      <td>1</td>\n",
       "    </tr>\n",
       "    <tr>\n",
       "      <th>85061</th>\n",
       "      <td>b'gAAAAABinOi7ixyXrlKYlx8D9i0-TIPD5elP2k-vuekn...</td>\n",
       "      <td>1</td>\n",
       "    </tr>\n",
       "    <tr>\n",
       "      <th>85062</th>\n",
       "      <td>b'gAAAAABinOi31zWSlD0OMhbBd3_weh7Kq6aPeO4yYqns...</td>\n",
       "      <td>0</td>\n",
       "    </tr>\n",
       "    <tr>\n",
       "      <th>85063</th>\n",
       "      <td>b'gAAAAABinOjIe7jFVk9k7jiH8Y3rdpUHDTZG2T2isunp...</td>\n",
       "      <td>1</td>\n",
       "    </tr>\n",
       "    <tr>\n",
       "      <th>85064</th>\n",
       "      <td>b'gAAAAABinOiiLo4KNZVgClHgtOFRzEU9O97My6MowJFa...</td>\n",
       "      <td>0</td>\n",
       "    </tr>\n",
       "  </tbody>\n",
       "</table>\n",
       "<p>85065 rows × 2 columns</p>\n",
       "</div>"
      ],
      "text/plain": [
       "                                                      id  label_rf\n",
       "0      b'gAAAAABinOi328DZcweGB4_nOyHA3Dy6o1YKYKyf3COx...         1\n",
       "1      b'gAAAAABinOikutEIBjkUXl9lYTg4RI6jc4NfiMUCcVsn...         0\n",
       "2      b'gAAAAABinOjBM70jBXOroAlUSq5lNXMd_oP0PU7jLQE5...         1\n",
       "3      b'gAAAAABinOimitAnqlgOcqnD_LeNL3WEbXNGvjd3QVPi...         0\n",
       "4      b'gAAAAABinOi3W9p3Oka5MV_dc2TeorZUcIWOnnODSx7E...         0\n",
       "...                                                  ...       ...\n",
       "85060  b'gAAAAABinOjbnJVk2-nOVQsYB9p4DK26fTLLik_UR2H0...         1\n",
       "85061  b'gAAAAABinOi7ixyXrlKYlx8D9i0-TIPD5elP2k-vuekn...         1\n",
       "85062  b'gAAAAABinOi31zWSlD0OMhbBd3_weh7Kq6aPeO4yYqns...         0\n",
       "85063  b'gAAAAABinOjIe7jFVk9k7jiH8Y3rdpUHDTZG2T2isunp...         1\n",
       "85064  b'gAAAAABinOiiLo4KNZVgClHgtOFRzEU9O97My6MowJFa...         0\n",
       "\n",
       "[85065 rows x 2 columns]"
      ]
     },
     "execution_count": 139,
     "metadata": {},
     "output_type": "execute_result"
    }
   ],
   "source": [
    "submission=(test[['id','label_rf']])\n",
    "submission"
   ]
  },
  {
   "cell_type": "code",
   "execution_count": 140,
   "metadata": {},
   "outputs": [
    {
     "data": {
      "text/html": [
       "<div>\n",
       "<style scoped>\n",
       "    .dataframe tbody tr th:only-of-type {\n",
       "        vertical-align: middle;\n",
       "    }\n",
       "\n",
       "    .dataframe tbody tr th {\n",
       "        vertical-align: top;\n",
       "    }\n",
       "\n",
       "    .dataframe thead th {\n",
       "        text-align: right;\n",
       "    }\n",
       "</style>\n",
       "<table border=\"1\" class=\"dataframe\">\n",
       "  <thead>\n",
       "    <tr style=\"text-align: right;\">\n",
       "      <th></th>\n",
       "      <th>id</th>\n",
       "      <th>label_rf</th>\n",
       "    </tr>\n",
       "  </thead>\n",
       "  <tbody>\n",
       "    <tr>\n",
       "      <th>0</th>\n",
       "      <td>b'gAAAAABinOi328DZcweGB4_nOyHA3Dy6o1YKYKyf3COx...</td>\n",
       "      <td>1</td>\n",
       "    </tr>\n",
       "    <tr>\n",
       "      <th>1</th>\n",
       "      <td>b'gAAAAABinOikutEIBjkUXl9lYTg4RI6jc4NfiMUCcVsn...</td>\n",
       "      <td>0</td>\n",
       "    </tr>\n",
       "    <tr>\n",
       "      <th>2</th>\n",
       "      <td>b'gAAAAABinOjBM70jBXOroAlUSq5lNXMd_oP0PU7jLQE5...</td>\n",
       "      <td>1</td>\n",
       "    </tr>\n",
       "    <tr>\n",
       "      <th>3</th>\n",
       "      <td>b'gAAAAABinOimitAnqlgOcqnD_LeNL3WEbXNGvjd3QVPi...</td>\n",
       "      <td>0</td>\n",
       "    </tr>\n",
       "    <tr>\n",
       "      <th>4</th>\n",
       "      <td>b'gAAAAABinOi3W9p3Oka5MV_dc2TeorZUcIWOnnODSx7E...</td>\n",
       "      <td>0</td>\n",
       "    </tr>\n",
       "    <tr>\n",
       "      <th>...</th>\n",
       "      <td>...</td>\n",
       "      <td>...</td>\n",
       "    </tr>\n",
       "    <tr>\n",
       "      <th>85060</th>\n",
       "      <td>b'gAAAAABinOjbnJVk2-nOVQsYB9p4DK26fTLLik_UR2H0...</td>\n",
       "      <td>1</td>\n",
       "    </tr>\n",
       "    <tr>\n",
       "      <th>85061</th>\n",
       "      <td>b'gAAAAABinOi7ixyXrlKYlx8D9i0-TIPD5elP2k-vuekn...</td>\n",
       "      <td>1</td>\n",
       "    </tr>\n",
       "    <tr>\n",
       "      <th>85062</th>\n",
       "      <td>b'gAAAAABinOi31zWSlD0OMhbBd3_weh7Kq6aPeO4yYqns...</td>\n",
       "      <td>0</td>\n",
       "    </tr>\n",
       "    <tr>\n",
       "      <th>85063</th>\n",
       "      <td>b'gAAAAABinOjIe7jFVk9k7jiH8Y3rdpUHDTZG2T2isunp...</td>\n",
       "      <td>1</td>\n",
       "    </tr>\n",
       "    <tr>\n",
       "      <th>85064</th>\n",
       "      <td>b'gAAAAABinOiiLo4KNZVgClHgtOFRzEU9O97My6MowJFa...</td>\n",
       "      <td>0</td>\n",
       "    </tr>\n",
       "  </tbody>\n",
       "</table>\n",
       "<p>85065 rows × 2 columns</p>\n",
       "</div>"
      ],
      "text/plain": [
       "                                                      id  label_rf\n",
       "0      b'gAAAAABinOi328DZcweGB4_nOyHA3Dy6o1YKYKyf3COx...         1\n",
       "1      b'gAAAAABinOikutEIBjkUXl9lYTg4RI6jc4NfiMUCcVsn...         0\n",
       "2      b'gAAAAABinOjBM70jBXOroAlUSq5lNXMd_oP0PU7jLQE5...         1\n",
       "3      b'gAAAAABinOimitAnqlgOcqnD_LeNL3WEbXNGvjd3QVPi...         0\n",
       "4      b'gAAAAABinOi3W9p3Oka5MV_dc2TeorZUcIWOnnODSx7E...         0\n",
       "...                                                  ...       ...\n",
       "85060  b'gAAAAABinOjbnJVk2-nOVQsYB9p4DK26fTLLik_UR2H0...         1\n",
       "85061  b'gAAAAABinOi7ixyXrlKYlx8D9i0-TIPD5elP2k-vuekn...         1\n",
       "85062  b'gAAAAABinOi31zWSlD0OMhbBd3_weh7Kq6aPeO4yYqns...         0\n",
       "85063  b'gAAAAABinOjIe7jFVk9k7jiH8Y3rdpUHDTZG2T2isunp...         1\n",
       "85064  b'gAAAAABinOiiLo4KNZVgClHgtOFRzEU9O97My6MowJFa...         0\n",
       "\n",
       "[85065 rows x 2 columns]"
      ]
     },
     "execution_count": 140,
     "metadata": {},
     "output_type": "execute_result"
    }
   ],
   "source": [
    "submission"
   ]
  },
  {
   "cell_type": "code",
   "execution_count": 144,
   "metadata": {},
   "outputs": [],
   "source": [
    "test.rename(columns = {'label_rf':'label'}, inplace = True)"
   ]
  },
  {
   "cell_type": "code",
   "execution_count": 137,
   "metadata": {},
   "outputs": [],
   "source": [
    "submission.to_csv('submission_hybrid.csv',index=False)"
   ]
  },
  {
   "cell_type": "code",
   "execution_count": 147,
   "metadata": {},
   "outputs": [
    {
     "data": {
      "text/html": [
       "<div>\n",
       "<style scoped>\n",
       "    .dataframe tbody tr th:only-of-type {\n",
       "        vertical-align: middle;\n",
       "    }\n",
       "\n",
       "    .dataframe tbody tr th {\n",
       "        vertical-align: top;\n",
       "    }\n",
       "\n",
       "    .dataframe thead th {\n",
       "        text-align: right;\n",
       "    }\n",
       "</style>\n",
       "<table border=\"1\" class=\"dataframe\">\n",
       "  <thead>\n",
       "    <tr style=\"text-align: right;\">\n",
       "      <th></th>\n",
       "      <th>id</th>\n",
       "      <th>s13</th>\n",
       "      <th>s48</th>\n",
       "      <th>n1</th>\n",
       "      <th>n2</th>\n",
       "      <th>n3</th>\n",
       "      <th>n4</th>\n",
       "      <th>n5</th>\n",
       "      <th>n6</th>\n",
       "      <th>n7</th>\n",
       "      <th>...</th>\n",
       "      <th>s70_op: B</th>\n",
       "      <th>s70_op: C</th>\n",
       "      <th>s70_op: D</th>\n",
       "      <th>s71_a</th>\n",
       "      <th>s71_b</th>\n",
       "      <th>s71_c</th>\n",
       "      <th>s71_d</th>\n",
       "      <th>label_xg</th>\n",
       "      <th>label_lg</th>\n",
       "      <th>check</th>\n",
       "    </tr>\n",
       "  </thead>\n",
       "  <tbody>\n",
       "    <tr>\n",
       "      <th>0</th>\n",
       "      <td>b'gAAAAABinOi328DZcweGB4_nOyHA3Dy6o1YKYKyf3COx...</td>\n",
       "      <td>1</td>\n",
       "      <td>0</td>\n",
       "      <td>17.362752</td>\n",
       "      <td>2.985283</td>\n",
       "      <td>3</td>\n",
       "      <td>2.052415</td>\n",
       "      <td>-32.339904</td>\n",
       "      <td>0.026301</td>\n",
       "      <td>-9.200175</td>\n",
       "      <td>...</td>\n",
       "      <td>0</td>\n",
       "      <td>0</td>\n",
       "      <td>1</td>\n",
       "      <td>0</td>\n",
       "      <td>0</td>\n",
       "      <td>0</td>\n",
       "      <td>1</td>\n",
       "      <td>1</td>\n",
       "      <td>1</td>\n",
       "      <td>3</td>\n",
       "    </tr>\n",
       "    <tr>\n",
       "      <th>1</th>\n",
       "      <td>b'gAAAAABinOikutEIBjkUXl9lYTg4RI6jc4NfiMUCcVsn...</td>\n",
       "      <td>1</td>\n",
       "      <td>1</td>\n",
       "      <td>15.892228</td>\n",
       "      <td>2.389056</td>\n",
       "      <td>7</td>\n",
       "      <td>6.928142</td>\n",
       "      <td>-32.356092</td>\n",
       "      <td>0.010774</td>\n",
       "      <td>-8.897092</td>\n",
       "      <td>...</td>\n",
       "      <td>0</td>\n",
       "      <td>1</td>\n",
       "      <td>0</td>\n",
       "      <td>0</td>\n",
       "      <td>1</td>\n",
       "      <td>0</td>\n",
       "      <td>0</td>\n",
       "      <td>1</td>\n",
       "      <td>1</td>\n",
       "      <td>2</td>\n",
       "    </tr>\n",
       "    <tr>\n",
       "      <th>2</th>\n",
       "      <td>b'gAAAAABinOjBM70jBXOroAlUSq5lNXMd_oP0PU7jLQE5...</td>\n",
       "      <td>1</td>\n",
       "      <td>1</td>\n",
       "      <td>10.893303</td>\n",
       "      <td>1.470903</td>\n",
       "      <td>6</td>\n",
       "      <td>2.210629</td>\n",
       "      <td>-32.397871</td>\n",
       "      <td>0.016837</td>\n",
       "      <td>-9.173660</td>\n",
       "      <td>...</td>\n",
       "      <td>0</td>\n",
       "      <td>0</td>\n",
       "      <td>1</td>\n",
       "      <td>0</td>\n",
       "      <td>1</td>\n",
       "      <td>0</td>\n",
       "      <td>0</td>\n",
       "      <td>1</td>\n",
       "      <td>1</td>\n",
       "      <td>3</td>\n",
       "    </tr>\n",
       "    <tr>\n",
       "      <th>3</th>\n",
       "      <td>b'gAAAAABinOimitAnqlgOcqnD_LeNL3WEbXNGvjd3QVPi...</td>\n",
       "      <td>1</td>\n",
       "      <td>0</td>\n",
       "      <td>9.876850</td>\n",
       "      <td>1.442493</td>\n",
       "      <td>3</td>\n",
       "      <td>2.350379</td>\n",
       "      <td>-32.836003</td>\n",
       "      <td>0.015684</td>\n",
       "      <td>-9.178200</td>\n",
       "      <td>...</td>\n",
       "      <td>0</td>\n",
       "      <td>0</td>\n",
       "      <td>1</td>\n",
       "      <td>0</td>\n",
       "      <td>1</td>\n",
       "      <td>0</td>\n",
       "      <td>0</td>\n",
       "      <td>0</td>\n",
       "      <td>0</td>\n",
       "      <td>0</td>\n",
       "    </tr>\n",
       "    <tr>\n",
       "      <th>4</th>\n",
       "      <td>b'gAAAAABinOi3W9p3Oka5MV_dc2TeorZUcIWOnnODSx7E...</td>\n",
       "      <td>1</td>\n",
       "      <td>1</td>\n",
       "      <td>11.674406</td>\n",
       "      <td>2.544719</td>\n",
       "      <td>8</td>\n",
       "      <td>8.136887</td>\n",
       "      <td>-32.577495</td>\n",
       "      <td>0.006406</td>\n",
       "      <td>-8.726633</td>\n",
       "      <td>...</td>\n",
       "      <td>0</td>\n",
       "      <td>1</td>\n",
       "      <td>0</td>\n",
       "      <td>0</td>\n",
       "      <td>1</td>\n",
       "      <td>0</td>\n",
       "      <td>0</td>\n",
       "      <td>0</td>\n",
       "      <td>0</td>\n",
       "      <td>0</td>\n",
       "    </tr>\n",
       "    <tr>\n",
       "      <th>...</th>\n",
       "      <td>...</td>\n",
       "      <td>...</td>\n",
       "      <td>...</td>\n",
       "      <td>...</td>\n",
       "      <td>...</td>\n",
       "      <td>...</td>\n",
       "      <td>...</td>\n",
       "      <td>...</td>\n",
       "      <td>...</td>\n",
       "      <td>...</td>\n",
       "      <td>...</td>\n",
       "      <td>...</td>\n",
       "      <td>...</td>\n",
       "      <td>...</td>\n",
       "      <td>...</td>\n",
       "      <td>...</td>\n",
       "      <td>...</td>\n",
       "      <td>...</td>\n",
       "      <td>...</td>\n",
       "      <td>...</td>\n",
       "      <td>...</td>\n",
       "    </tr>\n",
       "    <tr>\n",
       "      <th>85060</th>\n",
       "      <td>b'gAAAAABinOjbnJVk2-nOVQsYB9p4DK26fTLLik_UR2H0...</td>\n",
       "      <td>1</td>\n",
       "      <td>1</td>\n",
       "      <td>10.547381</td>\n",
       "      <td>1.452660</td>\n",
       "      <td>7</td>\n",
       "      <td>8.000085</td>\n",
       "      <td>-32.578221</td>\n",
       "      <td>0.011017</td>\n",
       "      <td>-8.994304</td>\n",
       "      <td>...</td>\n",
       "      <td>0</td>\n",
       "      <td>1</td>\n",
       "      <td>0</td>\n",
       "      <td>0</td>\n",
       "      <td>0</td>\n",
       "      <td>1</td>\n",
       "      <td>0</td>\n",
       "      <td>0</td>\n",
       "      <td>0</td>\n",
       "      <td>1</td>\n",
       "    </tr>\n",
       "    <tr>\n",
       "      <th>85061</th>\n",
       "      <td>b'gAAAAABinOi7ixyXrlKYlx8D9i0-TIPD5elP2k-vuekn...</td>\n",
       "      <td>1</td>\n",
       "      <td>1</td>\n",
       "      <td>10.149117</td>\n",
       "      <td>2.168239</td>\n",
       "      <td>6</td>\n",
       "      <td>6.011115</td>\n",
       "      <td>-32.447282</td>\n",
       "      <td>0.019550</td>\n",
       "      <td>-9.131275</td>\n",
       "      <td>...</td>\n",
       "      <td>0</td>\n",
       "      <td>1</td>\n",
       "      <td>0</td>\n",
       "      <td>0</td>\n",
       "      <td>0</td>\n",
       "      <td>1</td>\n",
       "      <td>0</td>\n",
       "      <td>1</td>\n",
       "      <td>1</td>\n",
       "      <td>3</td>\n",
       "    </tr>\n",
       "    <tr>\n",
       "      <th>85062</th>\n",
       "      <td>b'gAAAAABinOi31zWSlD0OMhbBd3_weh7Kq6aPeO4yYqns...</td>\n",
       "      <td>1</td>\n",
       "      <td>1</td>\n",
       "      <td>3.744380</td>\n",
       "      <td>0.661328</td>\n",
       "      <td>2</td>\n",
       "      <td>2.112016</td>\n",
       "      <td>-32.351165</td>\n",
       "      <td>0.015461</td>\n",
       "      <td>-9.249529</td>\n",
       "      <td>...</td>\n",
       "      <td>0</td>\n",
       "      <td>0</td>\n",
       "      <td>0</td>\n",
       "      <td>0</td>\n",
       "      <td>0</td>\n",
       "      <td>1</td>\n",
       "      <td>0</td>\n",
       "      <td>0</td>\n",
       "      <td>0</td>\n",
       "      <td>0</td>\n",
       "    </tr>\n",
       "    <tr>\n",
       "      <th>85063</th>\n",
       "      <td>b'gAAAAABinOjIe7jFVk9k7jiH8Y3rdpUHDTZG2T2isunp...</td>\n",
       "      <td>1</td>\n",
       "      <td>1</td>\n",
       "      <td>10.194615</td>\n",
       "      <td>1.557863</td>\n",
       "      <td>2</td>\n",
       "      <td>2.433086</td>\n",
       "      <td>-32.363871</td>\n",
       "      <td>0.010612</td>\n",
       "      <td>-9.229158</td>\n",
       "      <td>...</td>\n",
       "      <td>0</td>\n",
       "      <td>0</td>\n",
       "      <td>1</td>\n",
       "      <td>0</td>\n",
       "      <td>0</td>\n",
       "      <td>0</td>\n",
       "      <td>1</td>\n",
       "      <td>1</td>\n",
       "      <td>1</td>\n",
       "      <td>3</td>\n",
       "    </tr>\n",
       "    <tr>\n",
       "      <th>85064</th>\n",
       "      <td>b'gAAAAABinOiiLo4KNZVgClHgtOFRzEU9O97My6MowJFa...</td>\n",
       "      <td>1</td>\n",
       "      <td>0</td>\n",
       "      <td>10.109654</td>\n",
       "      <td>1.517923</td>\n",
       "      <td>0</td>\n",
       "      <td>6.809017</td>\n",
       "      <td>-32.644558</td>\n",
       "      <td>0.029553</td>\n",
       "      <td>-9.225671</td>\n",
       "      <td>...</td>\n",
       "      <td>0</td>\n",
       "      <td>0</td>\n",
       "      <td>1</td>\n",
       "      <td>0</td>\n",
       "      <td>1</td>\n",
       "      <td>0</td>\n",
       "      <td>0</td>\n",
       "      <td>0</td>\n",
       "      <td>0</td>\n",
       "      <td>0</td>\n",
       "    </tr>\n",
       "  </tbody>\n",
       "</table>\n",
       "<p>85065 rows × 57 columns</p>\n",
       "</div>"
      ],
      "text/plain": [
       "                                                      id  s13  s48         n1  \\\n",
       "0      b'gAAAAABinOi328DZcweGB4_nOyHA3Dy6o1YKYKyf3COx...    1    0  17.362752   \n",
       "1      b'gAAAAABinOikutEIBjkUXl9lYTg4RI6jc4NfiMUCcVsn...    1    1  15.892228   \n",
       "2      b'gAAAAABinOjBM70jBXOroAlUSq5lNXMd_oP0PU7jLQE5...    1    1  10.893303   \n",
       "3      b'gAAAAABinOimitAnqlgOcqnD_LeNL3WEbXNGvjd3QVPi...    1    0   9.876850   \n",
       "4      b'gAAAAABinOi3W9p3Oka5MV_dc2TeorZUcIWOnnODSx7E...    1    1  11.674406   \n",
       "...                                                  ...  ...  ...        ...   \n",
       "85060  b'gAAAAABinOjbnJVk2-nOVQsYB9p4DK26fTLLik_UR2H0...    1    1  10.547381   \n",
       "85061  b'gAAAAABinOi7ixyXrlKYlx8D9i0-TIPD5elP2k-vuekn...    1    1  10.149117   \n",
       "85062  b'gAAAAABinOi31zWSlD0OMhbBd3_weh7Kq6aPeO4yYqns...    1    1   3.744380   \n",
       "85063  b'gAAAAABinOjIe7jFVk9k7jiH8Y3rdpUHDTZG2T2isunp...    1    1  10.194615   \n",
       "85064  b'gAAAAABinOiiLo4KNZVgClHgtOFRzEU9O97My6MowJFa...    1    0  10.109654   \n",
       "\n",
       "             n2  n3        n4         n5        n6        n7  ...  s70_op: B  \\\n",
       "0      2.985283   3  2.052415 -32.339904  0.026301 -9.200175  ...          0   \n",
       "1      2.389056   7  6.928142 -32.356092  0.010774 -8.897092  ...          0   \n",
       "2      1.470903   6  2.210629 -32.397871  0.016837 -9.173660  ...          0   \n",
       "3      1.442493   3  2.350379 -32.836003  0.015684 -9.178200  ...          0   \n",
       "4      2.544719   8  8.136887 -32.577495  0.006406 -8.726633  ...          0   \n",
       "...         ...  ..       ...        ...       ...       ...  ...        ...   \n",
       "85060  1.452660   7  8.000085 -32.578221  0.011017 -8.994304  ...          0   \n",
       "85061  2.168239   6  6.011115 -32.447282  0.019550 -9.131275  ...          0   \n",
       "85062  0.661328   2  2.112016 -32.351165  0.015461 -9.249529  ...          0   \n",
       "85063  1.557863   2  2.433086 -32.363871  0.010612 -9.229158  ...          0   \n",
       "85064  1.517923   0  6.809017 -32.644558  0.029553 -9.225671  ...          0   \n",
       "\n",
       "       s70_op: C  s70_op: D  s71_a  s71_b  s71_c  s71_d  label_xg  label_lg  \\\n",
       "0              0          1      0      0      0      1         1         1   \n",
       "1              1          0      0      1      0      0         1         1   \n",
       "2              0          1      0      1      0      0         1         1   \n",
       "3              0          1      0      1      0      0         0         0   \n",
       "4              1          0      0      1      0      0         0         0   \n",
       "...          ...        ...    ...    ...    ...    ...       ...       ...   \n",
       "85060          1          0      0      0      1      0         0         0   \n",
       "85061          1          0      0      0      1      0         1         1   \n",
       "85062          0          0      0      0      1      0         0         0   \n",
       "85063          0          1      0      0      0      1         1         1   \n",
       "85064          0          1      0      1      0      0         0         0   \n",
       "\n",
       "       check  \n",
       "0          3  \n",
       "1          2  \n",
       "2          3  \n",
       "3          0  \n",
       "4          0  \n",
       "...      ...  \n",
       "85060      1  \n",
       "85061      3  \n",
       "85062      0  \n",
       "85063      3  \n",
       "85064      0  \n",
       "\n",
       "[85065 rows x 57 columns]"
      ]
     },
     "execution_count": 147,
     "metadata": {},
     "output_type": "execute_result"
    }
   ],
   "source": [
    "test"
   ]
  },
  {
   "cell_type": "code",
   "execution_count": 154,
   "metadata": {},
   "outputs": [],
   "source": [
    "test['label']=y_pred_xg"
   ]
  },
  {
   "cell_type": "code",
   "execution_count": 155,
   "metadata": {},
   "outputs": [
    {
     "data": {
      "text/html": [
       "<div>\n",
       "<style scoped>\n",
       "    .dataframe tbody tr th:only-of-type {\n",
       "        vertical-align: middle;\n",
       "    }\n",
       "\n",
       "    .dataframe tbody tr th {\n",
       "        vertical-align: top;\n",
       "    }\n",
       "\n",
       "    .dataframe thead th {\n",
       "        text-align: right;\n",
       "    }\n",
       "</style>\n",
       "<table border=\"1\" class=\"dataframe\">\n",
       "  <thead>\n",
       "    <tr style=\"text-align: right;\">\n",
       "      <th></th>\n",
       "      <th>id</th>\n",
       "      <th>s13</th>\n",
       "      <th>s48</th>\n",
       "      <th>n1</th>\n",
       "      <th>n2</th>\n",
       "      <th>n3</th>\n",
       "      <th>n4</th>\n",
       "      <th>n5</th>\n",
       "      <th>n6</th>\n",
       "      <th>n7</th>\n",
       "      <th>...</th>\n",
       "      <th>s70_op: C</th>\n",
       "      <th>s70_op: D</th>\n",
       "      <th>s71_a</th>\n",
       "      <th>s71_b</th>\n",
       "      <th>s71_c</th>\n",
       "      <th>s71_d</th>\n",
       "      <th>label_xg</th>\n",
       "      <th>label_lg</th>\n",
       "      <th>check</th>\n",
       "      <th>label</th>\n",
       "    </tr>\n",
       "  </thead>\n",
       "  <tbody>\n",
       "    <tr>\n",
       "      <th>0</th>\n",
       "      <td>b'gAAAAABinOi328DZcweGB4_nOyHA3Dy6o1YKYKyf3COx...</td>\n",
       "      <td>1</td>\n",
       "      <td>0</td>\n",
       "      <td>17.362752</td>\n",
       "      <td>2.985283</td>\n",
       "      <td>3</td>\n",
       "      <td>2.052415</td>\n",
       "      <td>-32.339904</td>\n",
       "      <td>0.026301</td>\n",
       "      <td>-9.200175</td>\n",
       "      <td>...</td>\n",
       "      <td>0</td>\n",
       "      <td>1</td>\n",
       "      <td>0</td>\n",
       "      <td>0</td>\n",
       "      <td>0</td>\n",
       "      <td>1</td>\n",
       "      <td>1</td>\n",
       "      <td>1</td>\n",
       "      <td>3</td>\n",
       "      <td>1</td>\n",
       "    </tr>\n",
       "    <tr>\n",
       "      <th>1</th>\n",
       "      <td>b'gAAAAABinOikutEIBjkUXl9lYTg4RI6jc4NfiMUCcVsn...</td>\n",
       "      <td>1</td>\n",
       "      <td>1</td>\n",
       "      <td>15.892228</td>\n",
       "      <td>2.389056</td>\n",
       "      <td>7</td>\n",
       "      <td>6.928142</td>\n",
       "      <td>-32.356092</td>\n",
       "      <td>0.010774</td>\n",
       "      <td>-8.897092</td>\n",
       "      <td>...</td>\n",
       "      <td>1</td>\n",
       "      <td>0</td>\n",
       "      <td>0</td>\n",
       "      <td>1</td>\n",
       "      <td>0</td>\n",
       "      <td>0</td>\n",
       "      <td>1</td>\n",
       "      <td>1</td>\n",
       "      <td>2</td>\n",
       "      <td>1</td>\n",
       "    </tr>\n",
       "    <tr>\n",
       "      <th>2</th>\n",
       "      <td>b'gAAAAABinOjBM70jBXOroAlUSq5lNXMd_oP0PU7jLQE5...</td>\n",
       "      <td>1</td>\n",
       "      <td>1</td>\n",
       "      <td>10.893303</td>\n",
       "      <td>1.470903</td>\n",
       "      <td>6</td>\n",
       "      <td>2.210629</td>\n",
       "      <td>-32.397871</td>\n",
       "      <td>0.016837</td>\n",
       "      <td>-9.173660</td>\n",
       "      <td>...</td>\n",
       "      <td>0</td>\n",
       "      <td>1</td>\n",
       "      <td>0</td>\n",
       "      <td>1</td>\n",
       "      <td>0</td>\n",
       "      <td>0</td>\n",
       "      <td>1</td>\n",
       "      <td>1</td>\n",
       "      <td>3</td>\n",
       "      <td>1</td>\n",
       "    </tr>\n",
       "    <tr>\n",
       "      <th>3</th>\n",
       "      <td>b'gAAAAABinOimitAnqlgOcqnD_LeNL3WEbXNGvjd3QVPi...</td>\n",
       "      <td>1</td>\n",
       "      <td>0</td>\n",
       "      <td>9.876850</td>\n",
       "      <td>1.442493</td>\n",
       "      <td>3</td>\n",
       "      <td>2.350379</td>\n",
       "      <td>-32.836003</td>\n",
       "      <td>0.015684</td>\n",
       "      <td>-9.178200</td>\n",
       "      <td>...</td>\n",
       "      <td>0</td>\n",
       "      <td>1</td>\n",
       "      <td>0</td>\n",
       "      <td>1</td>\n",
       "      <td>0</td>\n",
       "      <td>0</td>\n",
       "      <td>0</td>\n",
       "      <td>0</td>\n",
       "      <td>0</td>\n",
       "      <td>0</td>\n",
       "    </tr>\n",
       "    <tr>\n",
       "      <th>4</th>\n",
       "      <td>b'gAAAAABinOi3W9p3Oka5MV_dc2TeorZUcIWOnnODSx7E...</td>\n",
       "      <td>1</td>\n",
       "      <td>1</td>\n",
       "      <td>11.674406</td>\n",
       "      <td>2.544719</td>\n",
       "      <td>8</td>\n",
       "      <td>8.136887</td>\n",
       "      <td>-32.577495</td>\n",
       "      <td>0.006406</td>\n",
       "      <td>-8.726633</td>\n",
       "      <td>...</td>\n",
       "      <td>1</td>\n",
       "      <td>0</td>\n",
       "      <td>0</td>\n",
       "      <td>1</td>\n",
       "      <td>0</td>\n",
       "      <td>0</td>\n",
       "      <td>0</td>\n",
       "      <td>0</td>\n",
       "      <td>0</td>\n",
       "      <td>0</td>\n",
       "    </tr>\n",
       "    <tr>\n",
       "      <th>...</th>\n",
       "      <td>...</td>\n",
       "      <td>...</td>\n",
       "      <td>...</td>\n",
       "      <td>...</td>\n",
       "      <td>...</td>\n",
       "      <td>...</td>\n",
       "      <td>...</td>\n",
       "      <td>...</td>\n",
       "      <td>...</td>\n",
       "      <td>...</td>\n",
       "      <td>...</td>\n",
       "      <td>...</td>\n",
       "      <td>...</td>\n",
       "      <td>...</td>\n",
       "      <td>...</td>\n",
       "      <td>...</td>\n",
       "      <td>...</td>\n",
       "      <td>...</td>\n",
       "      <td>...</td>\n",
       "      <td>...</td>\n",
       "      <td>...</td>\n",
       "    </tr>\n",
       "    <tr>\n",
       "      <th>85060</th>\n",
       "      <td>b'gAAAAABinOjbnJVk2-nOVQsYB9p4DK26fTLLik_UR2H0...</td>\n",
       "      <td>1</td>\n",
       "      <td>1</td>\n",
       "      <td>10.547381</td>\n",
       "      <td>1.452660</td>\n",
       "      <td>7</td>\n",
       "      <td>8.000085</td>\n",
       "      <td>-32.578221</td>\n",
       "      <td>0.011017</td>\n",
       "      <td>-8.994304</td>\n",
       "      <td>...</td>\n",
       "      <td>1</td>\n",
       "      <td>0</td>\n",
       "      <td>0</td>\n",
       "      <td>0</td>\n",
       "      <td>1</td>\n",
       "      <td>0</td>\n",
       "      <td>0</td>\n",
       "      <td>0</td>\n",
       "      <td>1</td>\n",
       "      <td>0</td>\n",
       "    </tr>\n",
       "    <tr>\n",
       "      <th>85061</th>\n",
       "      <td>b'gAAAAABinOi7ixyXrlKYlx8D9i0-TIPD5elP2k-vuekn...</td>\n",
       "      <td>1</td>\n",
       "      <td>1</td>\n",
       "      <td>10.149117</td>\n",
       "      <td>2.168239</td>\n",
       "      <td>6</td>\n",
       "      <td>6.011115</td>\n",
       "      <td>-32.447282</td>\n",
       "      <td>0.019550</td>\n",
       "      <td>-9.131275</td>\n",
       "      <td>...</td>\n",
       "      <td>1</td>\n",
       "      <td>0</td>\n",
       "      <td>0</td>\n",
       "      <td>0</td>\n",
       "      <td>1</td>\n",
       "      <td>0</td>\n",
       "      <td>1</td>\n",
       "      <td>1</td>\n",
       "      <td>3</td>\n",
       "      <td>1</td>\n",
       "    </tr>\n",
       "    <tr>\n",
       "      <th>85062</th>\n",
       "      <td>b'gAAAAABinOi31zWSlD0OMhbBd3_weh7Kq6aPeO4yYqns...</td>\n",
       "      <td>1</td>\n",
       "      <td>1</td>\n",
       "      <td>3.744380</td>\n",
       "      <td>0.661328</td>\n",
       "      <td>2</td>\n",
       "      <td>2.112016</td>\n",
       "      <td>-32.351165</td>\n",
       "      <td>0.015461</td>\n",
       "      <td>-9.249529</td>\n",
       "      <td>...</td>\n",
       "      <td>0</td>\n",
       "      <td>0</td>\n",
       "      <td>0</td>\n",
       "      <td>0</td>\n",
       "      <td>1</td>\n",
       "      <td>0</td>\n",
       "      <td>0</td>\n",
       "      <td>0</td>\n",
       "      <td>0</td>\n",
       "      <td>0</td>\n",
       "    </tr>\n",
       "    <tr>\n",
       "      <th>85063</th>\n",
       "      <td>b'gAAAAABinOjIe7jFVk9k7jiH8Y3rdpUHDTZG2T2isunp...</td>\n",
       "      <td>1</td>\n",
       "      <td>1</td>\n",
       "      <td>10.194615</td>\n",
       "      <td>1.557863</td>\n",
       "      <td>2</td>\n",
       "      <td>2.433086</td>\n",
       "      <td>-32.363871</td>\n",
       "      <td>0.010612</td>\n",
       "      <td>-9.229158</td>\n",
       "      <td>...</td>\n",
       "      <td>0</td>\n",
       "      <td>1</td>\n",
       "      <td>0</td>\n",
       "      <td>0</td>\n",
       "      <td>0</td>\n",
       "      <td>1</td>\n",
       "      <td>1</td>\n",
       "      <td>1</td>\n",
       "      <td>3</td>\n",
       "      <td>1</td>\n",
       "    </tr>\n",
       "    <tr>\n",
       "      <th>85064</th>\n",
       "      <td>b'gAAAAABinOiiLo4KNZVgClHgtOFRzEU9O97My6MowJFa...</td>\n",
       "      <td>1</td>\n",
       "      <td>0</td>\n",
       "      <td>10.109654</td>\n",
       "      <td>1.517923</td>\n",
       "      <td>0</td>\n",
       "      <td>6.809017</td>\n",
       "      <td>-32.644558</td>\n",
       "      <td>0.029553</td>\n",
       "      <td>-9.225671</td>\n",
       "      <td>...</td>\n",
       "      <td>0</td>\n",
       "      <td>1</td>\n",
       "      <td>0</td>\n",
       "      <td>1</td>\n",
       "      <td>0</td>\n",
       "      <td>0</td>\n",
       "      <td>0</td>\n",
       "      <td>0</td>\n",
       "      <td>0</td>\n",
       "      <td>0</td>\n",
       "    </tr>\n",
       "  </tbody>\n",
       "</table>\n",
       "<p>85065 rows × 58 columns</p>\n",
       "</div>"
      ],
      "text/plain": [
       "                                                      id  s13  s48         n1  \\\n",
       "0      b'gAAAAABinOi328DZcweGB4_nOyHA3Dy6o1YKYKyf3COx...    1    0  17.362752   \n",
       "1      b'gAAAAABinOikutEIBjkUXl9lYTg4RI6jc4NfiMUCcVsn...    1    1  15.892228   \n",
       "2      b'gAAAAABinOjBM70jBXOroAlUSq5lNXMd_oP0PU7jLQE5...    1    1  10.893303   \n",
       "3      b'gAAAAABinOimitAnqlgOcqnD_LeNL3WEbXNGvjd3QVPi...    1    0   9.876850   \n",
       "4      b'gAAAAABinOi3W9p3Oka5MV_dc2TeorZUcIWOnnODSx7E...    1    1  11.674406   \n",
       "...                                                  ...  ...  ...        ...   \n",
       "85060  b'gAAAAABinOjbnJVk2-nOVQsYB9p4DK26fTLLik_UR2H0...    1    1  10.547381   \n",
       "85061  b'gAAAAABinOi7ixyXrlKYlx8D9i0-TIPD5elP2k-vuekn...    1    1  10.149117   \n",
       "85062  b'gAAAAABinOi31zWSlD0OMhbBd3_weh7Kq6aPeO4yYqns...    1    1   3.744380   \n",
       "85063  b'gAAAAABinOjIe7jFVk9k7jiH8Y3rdpUHDTZG2T2isunp...    1    1  10.194615   \n",
       "85064  b'gAAAAABinOiiLo4KNZVgClHgtOFRzEU9O97My6MowJFa...    1    0  10.109654   \n",
       "\n",
       "             n2  n3        n4         n5        n6        n7  ...  s70_op: C  \\\n",
       "0      2.985283   3  2.052415 -32.339904  0.026301 -9.200175  ...          0   \n",
       "1      2.389056   7  6.928142 -32.356092  0.010774 -8.897092  ...          1   \n",
       "2      1.470903   6  2.210629 -32.397871  0.016837 -9.173660  ...          0   \n",
       "3      1.442493   3  2.350379 -32.836003  0.015684 -9.178200  ...          0   \n",
       "4      2.544719   8  8.136887 -32.577495  0.006406 -8.726633  ...          1   \n",
       "...         ...  ..       ...        ...       ...       ...  ...        ...   \n",
       "85060  1.452660   7  8.000085 -32.578221  0.011017 -8.994304  ...          1   \n",
       "85061  2.168239   6  6.011115 -32.447282  0.019550 -9.131275  ...          1   \n",
       "85062  0.661328   2  2.112016 -32.351165  0.015461 -9.249529  ...          0   \n",
       "85063  1.557863   2  2.433086 -32.363871  0.010612 -9.229158  ...          0   \n",
       "85064  1.517923   0  6.809017 -32.644558  0.029553 -9.225671  ...          0   \n",
       "\n",
       "       s70_op: D  s71_a  s71_b  s71_c  s71_d  label_xg  label_lg  check  label  \n",
       "0              1      0      0      0      1         1         1      3      1  \n",
       "1              0      0      1      0      0         1         1      2      1  \n",
       "2              1      0      1      0      0         1         1      3      1  \n",
       "3              1      0      1      0      0         0         0      0      0  \n",
       "4              0      0      1      0      0         0         0      0      0  \n",
       "...          ...    ...    ...    ...    ...       ...       ...    ...    ...  \n",
       "85060          0      0      0      1      0         0         0      1      0  \n",
       "85061          0      0      0      1      0         1         1      3      1  \n",
       "85062          0      0      0      1      0         0         0      0      0  \n",
       "85063          1      0      0      0      1         1         1      3      1  \n",
       "85064          1      0      1      0      0         0         0      0      0  \n",
       "\n",
       "[85065 rows x 58 columns]"
      ]
     },
     "execution_count": 155,
     "metadata": {},
     "output_type": "execute_result"
    }
   ],
   "source": [
    "test"
   ]
  },
  {
   "cell_type": "code",
   "execution_count": 156,
   "metadata": {},
   "outputs": [],
   "source": [
    "new = test[['id','label']].copy()"
   ]
  },
  {
   "cell_type": "code",
   "execution_count": 157,
   "metadata": {},
   "outputs": [
    {
     "data": {
      "text/html": [
       "<div>\n",
       "<style scoped>\n",
       "    .dataframe tbody tr th:only-of-type {\n",
       "        vertical-align: middle;\n",
       "    }\n",
       "\n",
       "    .dataframe tbody tr th {\n",
       "        vertical-align: top;\n",
       "    }\n",
       "\n",
       "    .dataframe thead th {\n",
       "        text-align: right;\n",
       "    }\n",
       "</style>\n",
       "<table border=\"1\" class=\"dataframe\">\n",
       "  <thead>\n",
       "    <tr style=\"text-align: right;\">\n",
       "      <th></th>\n",
       "      <th>id</th>\n",
       "      <th>label</th>\n",
       "    </tr>\n",
       "  </thead>\n",
       "  <tbody>\n",
       "    <tr>\n",
       "      <th>0</th>\n",
       "      <td>b'gAAAAABinOi328DZcweGB4_nOyHA3Dy6o1YKYKyf3COx...</td>\n",
       "      <td>1</td>\n",
       "    </tr>\n",
       "    <tr>\n",
       "      <th>1</th>\n",
       "      <td>b'gAAAAABinOikutEIBjkUXl9lYTg4RI6jc4NfiMUCcVsn...</td>\n",
       "      <td>1</td>\n",
       "    </tr>\n",
       "    <tr>\n",
       "      <th>2</th>\n",
       "      <td>b'gAAAAABinOjBM70jBXOroAlUSq5lNXMd_oP0PU7jLQE5...</td>\n",
       "      <td>1</td>\n",
       "    </tr>\n",
       "    <tr>\n",
       "      <th>3</th>\n",
       "      <td>b'gAAAAABinOimitAnqlgOcqnD_LeNL3WEbXNGvjd3QVPi...</td>\n",
       "      <td>0</td>\n",
       "    </tr>\n",
       "    <tr>\n",
       "      <th>4</th>\n",
       "      <td>b'gAAAAABinOi3W9p3Oka5MV_dc2TeorZUcIWOnnODSx7E...</td>\n",
       "      <td>0</td>\n",
       "    </tr>\n",
       "    <tr>\n",
       "      <th>...</th>\n",
       "      <td>...</td>\n",
       "      <td>...</td>\n",
       "    </tr>\n",
       "    <tr>\n",
       "      <th>85060</th>\n",
       "      <td>b'gAAAAABinOjbnJVk2-nOVQsYB9p4DK26fTLLik_UR2H0...</td>\n",
       "      <td>0</td>\n",
       "    </tr>\n",
       "    <tr>\n",
       "      <th>85061</th>\n",
       "      <td>b'gAAAAABinOi7ixyXrlKYlx8D9i0-TIPD5elP2k-vuekn...</td>\n",
       "      <td>1</td>\n",
       "    </tr>\n",
       "    <tr>\n",
       "      <th>85062</th>\n",
       "      <td>b'gAAAAABinOi31zWSlD0OMhbBd3_weh7Kq6aPeO4yYqns...</td>\n",
       "      <td>0</td>\n",
       "    </tr>\n",
       "    <tr>\n",
       "      <th>85063</th>\n",
       "      <td>b'gAAAAABinOjIe7jFVk9k7jiH8Y3rdpUHDTZG2T2isunp...</td>\n",
       "      <td>1</td>\n",
       "    </tr>\n",
       "    <tr>\n",
       "      <th>85064</th>\n",
       "      <td>b'gAAAAABinOiiLo4KNZVgClHgtOFRzEU9O97My6MowJFa...</td>\n",
       "      <td>0</td>\n",
       "    </tr>\n",
       "  </tbody>\n",
       "</table>\n",
       "<p>85065 rows × 2 columns</p>\n",
       "</div>"
      ],
      "text/plain": [
       "                                                      id  label\n",
       "0      b'gAAAAABinOi328DZcweGB4_nOyHA3Dy6o1YKYKyf3COx...      1\n",
       "1      b'gAAAAABinOikutEIBjkUXl9lYTg4RI6jc4NfiMUCcVsn...      1\n",
       "2      b'gAAAAABinOjBM70jBXOroAlUSq5lNXMd_oP0PU7jLQE5...      1\n",
       "3      b'gAAAAABinOimitAnqlgOcqnD_LeNL3WEbXNGvjd3QVPi...      0\n",
       "4      b'gAAAAABinOi3W9p3Oka5MV_dc2TeorZUcIWOnnODSx7E...      0\n",
       "...                                                  ...    ...\n",
       "85060  b'gAAAAABinOjbnJVk2-nOVQsYB9p4DK26fTLLik_UR2H0...      0\n",
       "85061  b'gAAAAABinOi7ixyXrlKYlx8D9i0-TIPD5elP2k-vuekn...      1\n",
       "85062  b'gAAAAABinOi31zWSlD0OMhbBd3_weh7Kq6aPeO4yYqns...      0\n",
       "85063  b'gAAAAABinOjIe7jFVk9k7jiH8Y3rdpUHDTZG2T2isunp...      1\n",
       "85064  b'gAAAAABinOiiLo4KNZVgClHgtOFRzEU9O97My6MowJFa...      0\n",
       "\n",
       "[85065 rows x 2 columns]"
      ]
     },
     "execution_count": 157,
     "metadata": {},
     "output_type": "execute_result"
    }
   ],
   "source": [
    "new"
   ]
  },
  {
   "cell_type": "code",
   "execution_count": 158,
   "metadata": {},
   "outputs": [],
   "source": [
    "new.to_csv('Submission_Thelazypandas_6h37hp.csv',index=False)"
   ]
  },
  {
   "cell_type": "code",
   "execution_count": null,
   "metadata": {},
   "outputs": [],
   "source": []
  }
 ],
 "metadata": {
  "kernelspec": {
   "display_name": "Python 3",
   "language": "python",
   "name": "python3"
  },
  "language_info": {
   "codemirror_mode": {
    "name": "ipython",
    "version": 3
   },
   "file_extension": ".py",
   "mimetype": "text/x-python",
   "name": "python",
   "nbconvert_exporter": "python",
   "pygments_lexer": "ipython3",
   "version": "3.7.9"
  }
 },
 "nbformat": 4,
 "nbformat_minor": 4
}
